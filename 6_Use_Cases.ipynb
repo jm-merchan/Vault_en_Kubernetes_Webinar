{
 "cells": [
  {
   "cell_type": "markdown",
   "metadata": {},
   "source": [
    "# Tabla de Contenidos\n",
    "\n",
    "1. [Introducción](#first-bullet)\n",
    "2. [Configuración del Entorno](#second-bullet)\n",
    "3. [Creación de Secretos Estáticos](#creación-de-secretos-estáticos)\n",
    "   1. [Binarios (Base64 JKS + Password)](#binarios)\n",
    "   2. [Secretos como Texto](#secretos-como-texto)\n",
    "   3. [Claves de Criptografía](#crypto)\n",
    "4. [Operaciones de Criptografía usando la Transit Secret Engine](#transit)"
   ]
  },
  {
   "cell_type": "markdown",
   "metadata": {},
   "source": [
    "# Introducción <a class=\"anchor\" id=\"first-bullet\"></a>\n",
    "El objetivo de este notebook es el de ilustrar algunas opciones de configuración de Vault, Vault Secret Operator y Vault Agent Injector, que permitan satisfacer los siguientes casos de uso:\n",
    "1. Certificados de cliente, que ahora se almacenan en un Java KeyStore. En el yml de configuración del repositorio Git guardamos el base64 del JKS y la password del mismo cifrada.\n",
    "2. Truststores, que ahora se almacenan en un Java KeyStore. En el yml de configuración del repositorio Git guardamos el base64 del JKS y la password del mismo cifrada.\n",
    "3. Username/password utilizados en Basic HTTP Authentication para WS SOAP y servicios REST.\n",
    "4. API Keys utilizadas también por clientes REST.\n",
    "5. Username/password de las bases de datos de Oracle de cada entorno.\n",
    "6. tpnName/user de las conexiones a Host de cada entorno.\n",
    "7. Secretos de firma asociados a los clientes Oauth.\n",
    "8. Claves privadas utilizadas para cifrado de recursos.\n"
   ]
  },
  {
   "cell_type": "markdown",
   "metadata": {},
   "source": [
    "## Configuración del Entorno <a class=\"anchor\" id=\"second-bullet\"></a>"
   ]
  },
  {
   "cell_type": "code",
   "execution_count": null,
   "metadata": {
    "vscode": {
     "languageId": "shellscript"
    }
   },
   "outputs": [],
   "source": [
    "%env WORKDIR=/tmp/vault\n",
    "%env VAULT_K8S_NAMESPACE=vault\n",
    "%env VAULT_HELM_RELEASE_NAME=vault\n",
    "%env VAULT_SERVICE_NAME=vault-internal \n",
    "%env K8S_CLUSTER_NAME=cluster.local "
   ]
  },
  {
   "cell_type": "code",
   "execution_count": null,
   "metadata": {},
   "outputs": [],
   "source": [
    "import os\n",
    "from dotenv import load_dotenv\n",
    "\n",
    "load_dotenv(\"/tmp/vault/config.env\")\n",
    "\n",
    "VAULT_TOKEN = os.getenv('VAULT_TOKEN')\n",
    "VAULT_ADDR = os.getenv('VAULT_ADDR')\n",
    "VAULT_CACERT = os.getenv('VAULT_CACERT')\n"
   ]
  },
  {
   "cell_type": "markdown",
   "metadata": {},
   "source": [
    "## Creación de Secretos Estáticos <a class=\"anchor\" id=\"creación-de-secretos-estáticos\"></a> "
   ]
  },
  {
   "cell_type": "code",
   "execution_count": null,
   "metadata": {
    "vscode": {
     "languageId": "shellscript"
    }
   },
   "outputs": [],
   "source": [
    "! vault secrets enable -path=static kv-v2"
   ]
  },
  {
   "cell_type": "markdown",
   "metadata": {},
   "source": [
    "Creamos una engine para secretos estáticos de tipo KVv2"
   ]
  },
  {
   "cell_type": "markdown",
   "metadata": {},
   "source": [
    "### Binarios (Base64 JKS + Password)<a class=\"anchor\" id=\"binarios\"></a> "
   ]
  },
  {
   "cell_type": "markdown",
   "metadata": {},
   "source": [
    "Usamos `keytool` para crear un certificado"
   ]
  },
  {
   "cell_type": "code",
   "execution_count": null,
   "metadata": {},
   "outputs": [],
   "source": [
    "%env PASSWORD=changeit"
   ]
  },
  {
   "cell_type": "code",
   "execution_count": null,
   "metadata": {
    "vscode": {
     "languageId": "shellscript"
    }
   },
   "outputs": [],
   "source": [
    "%%bash\n",
    "keytool -genkeypair \\\n",
    "  -alias myapp \\\n",
    "  -keyalg RSA \\\n",
    "  -keysize 2048 \\\n",
    "  -validity 365 \\\n",
    "  -keystore $WORKDIR/myapp-keystore-2.jks \\\n",
    "  -storepass $PASSWORD \\\n",
    "  -keypass $PASSWORD \\\n",
    "  -dname \"CN=localhost, OU=Dev, O=MyCompany, L=City, S=State, C=US\""
   ]
  },
  {
   "cell_type": "markdown",
   "metadata": {},
   "source": [
    "Subimos el secreto a la engine. Para ello:\n",
    "1. Creamos un path siguiendo la estructura `<engine_path>/subdirectory/secret`\n",
    "2. Los secretos estáticos en Vault toman la forma key=value. En este caso tenemos dos keys `cert` y `password`\n",
    "3. El certificado en sí es un objeto binario que para guardarlo en Vault se aconseja que se condifique en base64. Como [referencia](https://support.hashicorp.com/hc/en-us/articles/5332149468691-Storing-pfx-certs-and-binary-files-in-Vault-KV-secrets)\n",
    "4. El password es información en texto plano"
   ]
  },
  {
   "cell_type": "code",
   "execution_count": null,
   "metadata": {
    "vscode": {
     "languageId": "shellscript"
    }
   },
   "outputs": [],
   "source": [
    "%%bash\n",
    "DATA=$(cat $WORKDIR/myapp-keystore-2.jks | base64 | tr -d '\\n')\n",
    "vault kv put static/jks/myapp-keystore-2 cert=$DATA password=$PASSWORD \\"
   ]
  },
  {
   "cell_type": "markdown",
   "metadata": {},
   "source": [
    "Podemos leer la información de vuelta"
   ]
  },
  {
   "cell_type": "code",
   "execution_count": null,
   "metadata": {
    "vscode": {
     "languageId": "shellscript"
    }
   },
   "outputs": [],
   "source": [
    "! vault kv get -format=json static/jks/myapp-keystore-2 | jq -r ."
   ]
  },
  {
   "cell_type": "markdown",
   "metadata": {},
   "source": [
    "Tenga en cuenta que el valor del certificado está codificado en base64, de forma que para su consumo se precisa de un paso de decoding previo. En la siguiente celda descargamos el certificado a un fichero y lo leemos utilizando la aplicación `keytool`"
   ]
  },
  {
   "cell_type": "code",
   "execution_count": null,
   "metadata": {
    "vscode": {
     "languageId": "shellscript"
    }
   },
   "outputs": [],
   "source": [
    "%%bash\n",
    "vault kv get -format=json static/jks/myapp-keystore-2 | jq -r .data.data.cert | base64 --decode > $WORKDIR/myapp-keystore-2_read.jks\n",
    "\n",
    "keytool -list -v -keystore $WORKDIR/myapp-keystore-2_read.jks -storepass $PASSWORD"
   ]
  },
  {
   "cell_type": "markdown",
   "metadata": {},
   "source": [
    "Otra posibilidad es replicando el patrón actual donde tanto el certificado como su correspondiente secreto se encuentran dentro de un fichero de configuración en formato yaml. Construyamos un ejemplo de consumo"
   ]
  },
  {
   "cell_type": "code",
   "execution_count": null,
   "metadata": {
    "vscode": {
     "languageId": "shellscript"
    }
   },
   "outputs": [],
   "source": [
    "%%bash\n",
    "cat > ${WORKDIR}/config.yaml <<EOF\n",
    "---\n",
    "java:\n",
    "  application:\n",
    "    truststore:\n",
    "      certificate_base64: |\n",
    "        $(cat $WORKDIR/myapp-keystore-2.jks | base64 | tr -d '\\n')\n",
    "      password: $(echo -n $PASSWORD)\n",
    "\n",
    "EOF\n"
   ]
  },
  {
   "cell_type": "code",
   "execution_count": null,
   "metadata": {
    "vscode": {
     "languageId": "shellscript"
    }
   },
   "outputs": [],
   "source": [
    "%%bash\n",
    "# Subimos el fichero de configuración a Vault\n",
    "vault kv put static/jks/config yaml=@$WORKDIR/config.yaml \n",
    "\n"
   ]
  },
  {
   "cell_type": "code",
   "execution_count": null,
   "metadata": {
    "vscode": {
     "languageId": "shellscript"
    }
   },
   "outputs": [],
   "source": [
    "%%bash\n",
    "# Leemos el secreto de vuelta\n",
    "vault kv get -format=json static/jks/config | jq -r .data.data.yaml"
   ]
  },
  {
   "cell_type": "markdown",
   "metadata": {
    "vscode": {
     "languageId": "shellscript"
    }
   },
   "source": [
    "### ¿Cómo consumimos este secreto desde una aplicación que corre en Kubernetes?"
   ]
  },
  {
   "cell_type": "markdown",
   "metadata": {},
   "source": [
    "El primer paso es extender la política de acceso para incluir el path al secreto estático que contiene el keystore"
   ]
  },
  {
   "cell_type": "code",
   "execution_count": null,
   "metadata": {
    "vscode": {
     "languageId": "shellscript"
    }
   },
   "outputs": [],
   "source": [
    "%%bash\n",
    "vault policy write devk8s - <<EOF\n",
    "path \"kvv2/*\" {\n",
    "  capabilities = [\"read\"]\n",
    "}\n",
    "path \"database/creds/readonly\" {\n",
    "  capabilities = [ \"read\"]\n",
    "}\n",
    "# Para secretos de tipo kv-v2 podemos usar el path del secreto. En este caso damos acceso tanto a los datos como a los metadatos\n",
    "path \"static/+/jks/*\" {\n",
    "    capabilities = [\"read\"]\n",
    "}\n",
    "EOF"
   ]
  },
  {
   "cell_type": "markdown",
   "metadata": {},
   "source": [
    "El siguiente paso es asegurarse de que la service account que usará el POD/Deployment esté asociada a la política del paso previo"
   ]
  },
  {
   "cell_type": "code",
   "execution_count": null,
   "metadata": {
    "vscode": {
     "languageId": "shellscript"
    }
   },
   "outputs": [],
   "source": [
    "%%bash\n",
    "\n",
    "vault write auth/kubernetes/role/role \\\n",
    "    bound_service_account_names=default,usecase \\\n",
    "    bound_service_account_namespaces=test,usecase \\\n",
    "    policies=devk8s \\\n",
    "    ttl=10m"
   ]
  },
  {
   "cell_type": "markdown",
   "metadata": {},
   "source": [
    "Creamos un namespace en kubernetes denominado `usecase` donde se crearon los recursos que integraran con Vault"
   ]
  },
  {
   "cell_type": "code",
   "execution_count": null,
   "metadata": {
    "vscode": {
     "languageId": "shellscript"
    }
   },
   "outputs": [],
   "source": [
    "%%bash\n",
    "kubectl create ns usecase\n",
    "kubectl create serviceaccount usecase -n usecase"
   ]
  },
  {
   "cell_type": "markdown",
   "metadata": {},
   "source": [
    "Desplegamos un POD que haga uso de la sa que acabamos de crear"
   ]
  },
  {
   "cell_type": "code",
   "execution_count": null,
   "metadata": {
    "vscode": {
     "languageId": "shellscript"
    }
   },
   "outputs": [],
   "source": [
    "%%bash\n",
    "cat > ${WORKDIR}/pod1_usecase.yaml <<EOF\n",
    "apiVersion: v1\n",
    "kind: Pod\n",
    "metadata:\n",
    "  name: pod1\n",
    "  namespace: usecase\n",
    "spec:\n",
    "  serviceAccountName: usecase\n",
    "  containers:\n",
    "  - name: pod1\n",
    "    image: nginx\n",
    "EOF\n",
    "\n",
    "kubectl apply -f ${WORKDIR}/pod1_usecase.yaml\n",
    "sleep 10\n",
    "kubectl get pods -n usecase"
   ]
  },
  {
   "cell_type": "code",
   "execution_count": null,
   "metadata": {
    "vscode": {
     "languageId": "shellscript"
    }
   },
   "outputs": [],
   "source": [
    "# En una terminal ejecuta los siguientes comandos\n",
    "kubectl exec -i -t pod1 -n usecase -- /bin/bash \n",
    "\n",
    "# ----------------------\n",
    "\n",
    "# Instalar jq y curl\n",
    "apt-get update\n",
    "apt-get install -y jq curl default-jre\n",
    "\n",
    "\n",
    "# Configuración de variables de entorno\n",
    "export VAULT_ADDR=https://vault.vault.svc.cluster.local:8200\n",
    "export TOKEN=$(cat /var/run/secrets/kubernetes.io/serviceaccount/token)\n",
    "export VAULT_SKIP_VERIFY=true\n",
    "export VAULT_K8S_MOUNT_POINT=auth/kubernetes\n",
    "export SECRET_PATH=static/data/jks/myapp-keystore-2\n",
    "export SECRET_PATH2=static/data/jks/config\n",
    "\n",
    "# Autenticación contra Vault usando el token de la service account\n",
    "export VAULT_TOKEN=$(curl -s -k --request POST --data '{\"jwt\": \"'\"$TOKEN\"'\", \"role\": \"role\" }' $VAULT_ADDR/v1/$VAULT_K8S_MOUNT_POINT/login | jq -r .auth.client_token)\n",
    "\n",
    "# Uso del token de Vault para obtener el secreto\n",
    "curl -s -k --header \"X-Vault-Token: $VAULT_TOKEN\" $VAULT_ADDR/v1/$SECRET_PATH | jq -r .data.data > cert\n",
    "\n",
    "# Get the second secret\n",
    "curl -s -k --header \"X-Vault-Token: $VAULT_TOKEN\" $VAULT_ADDR/v1/$SECRET_PATH2 | jq -r .data.data.yaml\n",
    "\n",
    "# Obtenemos la parte del certificado y lo decodificamos\n",
    "# y lo guardamos en un archivo keystore.jks\n",
    "cat cert | jq -r .cert | base64 -d > keystore.jks\n",
    "\n",
    "# Comprobación de la descarga\n",
    "keytool -list -v -keystore keystore.jks -storepass $(cat cert | jq -r .password)\n"
   ]
  },
  {
   "cell_type": "markdown",
   "metadata": {},
   "source": [
    "Este proceso puede realizarse:\n",
    "* Directamente a nivel de aplicación haciendo uso de SDKs, con la consiguiente refactorización de la aplicación, por ejemplo con [Spring Cloud Vault](https://cloud.spring.io/spring-cloud-vault/reference/html/#_quick_start)\n",
    "* Haciendo uso de VSO y sus capacidades de templating\n",
    "* Haciendo uso de Vault Agent y sus capacidades de templating\n",
    "\n",
    "En este caso, nos focalizamos en las dos últimas alternativas"
   ]
  },
  {
   "cell_type": "markdown",
   "metadata": {},
   "source": [
    "### VSO con templating"
   ]
  },
  {
   "cell_type": "markdown",
   "metadata": {},
   "source": [
    "Creamos un nuevo VaultAuth para permitir el acceso desde el namespace `usecase`"
   ]
  },
  {
   "cell_type": "code",
   "execution_count": null,
   "metadata": {
    "vscode": {
     "languageId": "shellscript"
    }
   },
   "outputs": [],
   "source": [
    "%%bash\n",
    "cat > ${WORKDIR}/vaultauth_crd_usecase1.yaml <<EOF\n",
    "---\n",
    "apiVersion: secrets.hashicorp.com/v1beta1\n",
    "kind: VaultAuth\n",
    "metadata:\n",
    "  namespace: vault-secrets-operator\n",
    "  name: vaultauth\n",
    "spec:\n",
    "  vaultConnectionRef: example\n",
    "  allowedNamespaces: [\"usecase\"]\n",
    "  method: kubernetes\n",
    "  mount: kubernetes\n",
    "\n",
    "  kubernetes:\n",
    "    # role to use when authenticating to Vault\n",
    "    role: role\n",
    "    serviceAccount: usecase\n",
    "\n",
    "EOF\n",
    "kubectl apply -f ${WORKDIR}/vaultauth_crd_usecase1.yaml"
   ]
  },
  {
   "cell_type": "markdown",
   "metadata": {},
   "source": [
    "Creamos un nuevo `VaultStaticSecret` incluyendo el `transformation` attribute"
   ]
  },
  {
   "cell_type": "code",
   "execution_count": null,
   "metadata": {
    "vscode": {
     "languageId": "shellscript"
    }
   },
   "outputs": [],
   "source": [
    "%%bash\n",
    "\n",
    "cat > ${WORKDIR}/vso_usecase1.yaml <<EOF\n",
    "---\n",
    "apiVersion: secrets.hashicorp.com/v1beta1\n",
    "kind: VaultStaticSecret\n",
    "metadata:\n",
    "  name: myapp-keystore-2\n",
    "  namespace: usecase\n",
    "spec:\n",
    "  vaultAuthRef: vault-secrets-operator/vaultauth\n",
    "  mount: static\n",
    "  type: kv-v2\n",
    "  path: jks/myapp-keystore-2\n",
    "  refreshAfter: 60s\n",
    "  destination:\n",
    "    create: true\n",
    "    name: myapp-keystore-2\n",
    "    transformation:\n",
    "      excludes:\n",
    "        - \".*\"\n",
    "      templates:\n",
    "        cert:\n",
    "          text: |\n",
    "            {{-  printf \"%s\" (get .Secrets \"cert\") | b64dec -}}\n",
    "        password:\n",
    "          text: |\n",
    "            {{- printf \"%s\" (get .Secrets \"password\") -}}\n",
    "EOF\n",
    "\n",
    "kubectl apply -f ${WORKDIR}/vso_usecase1.yaml"
   ]
  },
  {
   "cell_type": "markdown",
   "metadata": {},
   "source": [
    "Para el caso del fichero yaml, no hace falta que hagamos ninguna transformación"
   ]
  },
  {
   "cell_type": "code",
   "execution_count": null,
   "metadata": {
    "vscode": {
     "languageId": "shellscript"
    }
   },
   "outputs": [],
   "source": [
    "%%bash\n",
    "## Support KVv1 and KVv2\n",
    "cat > ${WORKDIR}/vso_usecase2.yaml <<EOF\n",
    "---\n",
    "apiVersion: secrets.hashicorp.com/v1beta1\n",
    "kind: VaultStaticSecret\n",
    "metadata:\n",
    "  name: myapp-keystore-2\n",
    "  namespace: usecase\n",
    "spec:\n",
    "  vaultAuthRef: vault-secrets-operator/vaultauth\n",
    "  mount: static\n",
    "  type: kv-v2\n",
    "  path: jks/config\n",
    "  refreshAfter: 60s\n",
    "  destination:\n",
    "    create: true\n",
    "    name: config-yaml\n",
    "\n",
    "EOF\n",
    "\n",
    "kubectl apply -f ${WORKDIR}/vso_usecase2.yaml"
   ]
  },
  {
   "cell_type": "markdown",
   "metadata": {},
   "source": [
    "Leemos el secreto de vuelta"
   ]
  },
  {
   "cell_type": "code",
   "execution_count": null,
   "metadata": {
    "vscode": {
     "languageId": "shellscript"
    }
   },
   "outputs": [],
   "source": [
    "%%bash\n",
    "echo -n \"$(kubectl get secret config-yaml -n usecase -o json | jq -r .data.yaml | base64 -d)\""
   ]
  },
  {
   "cell_type": "markdown",
   "metadata": {},
   "source": [
    "Ahora desplegamos un POD donde montamos el secreto"
   ]
  },
  {
   "cell_type": "code",
   "execution_count": null,
   "metadata": {
    "vscode": {
     "languageId": "shellscript"
    }
   },
   "outputs": [],
   "source": [
    "%%bash\n",
    "cat > ${WORKDIR}/vso__pod_usecase.yaml <<EOF\n",
    "apiVersion: v1\n",
    "kind: Pod\n",
    "metadata:\n",
    "  name: vso-myapp-keystore\n",
    "  namespace: usecase\n",
    "spec:\n",
    "  containers:\n",
    "  - name: vso-myapp-keystore\n",
    "    image: redis\n",
    "    volumeMounts:\n",
    "    - name: keystore\n",
    "      mountPath: \"/etc/keystore\"\n",
    "      readOnly: true\n",
    "  volumes:\n",
    "  - name: keystore\n",
    "    secret:\n",
    "      secretName: config-yaml\n",
    "      optional: true\n",
    "EOF\n",
    "\n",
    "kubectl apply -f ${WORKDIR}/vso__pod_usecase.yaml\n",
    "sleep 10"
   ]
  },
  {
   "cell_type": "code",
   "execution_count": null,
   "metadata": {
    "vscode": {
     "languageId": "shellscript"
    }
   },
   "outputs": [],
   "source": [
    "%%bash\n",
    "# Chequea secretos\n",
    "kubectl exec vso-myapp-keystore-2 -n usecase  -- ls -l /etc/keystore\n",
    "echo \"\"\n",
    "echo \"------\"\n",
    "kubectl exec vso-myapp-keystore-2 -n usecase -- cat /etc/keystore/yaml"
   ]
  },
  {
   "attachments": {},
   "cell_type": "markdown",
   "metadata": {},
   "source": [
    "### Vault Agent con templating"
   ]
  },
  {
   "cell_type": "code",
   "execution_count": null,
   "metadata": {
    "vscode": {
     "languageId": "shellscript"
    }
   },
   "outputs": [],
   "source": [
    "%%bash\n",
    "cat > $WORKDIR/agent-myapp-keystore-1.yaml <<EOF\n",
    "apiVersion: apps/v1\n",
    "kind: Deployment\n",
    "metadata:\n",
    "  name: agent-myapp-keystore-1\n",
    "  namespace: usecase\n",
    "  labels:\n",
    "    app: agent-myapp-keystore-1\n",
    "spec:\n",
    "  selector:\n",
    "    matchLabels:\n",
    "      app: agent-myapp-keystore-1\n",
    "  replicas: 1\n",
    "  template:\n",
    "    metadata:\n",
    "      annotations:\n",
    "        vault.hashicorp.com/agent-inject: 'true'\n",
    "        vault.hashicorp.com/role: 'role'\n",
    "        vault.hashicorp.com/tls-skip-verify: 'true' # Untrusted cert used here\n",
    "        vault.hashicorp.com/agent-inject-template-keystore.jks: |\n",
    "          {{- with secret \"static/data/jks/myapp-keystore-2\" -}}\n",
    "            {{ base64Decode .Data.data.cert }}\n",
    "          {{- end -}}\n",
    "        vault.hashicorp.com/agent-inject-template-password: |\n",
    "          {{- with secret \"static/data/jks/myapp-keystore-2\" -}}\n",
    "            {{ .Data.data.password }}\n",
    "          {{- end -}}\n",
    "      labels:\n",
    "        app: agent-myapp-keystore-1\n",
    "    spec:\n",
    "      serviceAccountName: usecase\n",
    "      containers:\n",
    "      - name: agent-myapp-keystore-1\n",
    "        image: nginx\n",
    "EOF"
   ]
  },
  {
   "cell_type": "markdown",
   "metadata": {},
   "source": [
    "Desplegamos el POD"
   ]
  },
  {
   "cell_type": "code",
   "execution_count": null,
   "metadata": {
    "vscode": {
     "languageId": "shellscript"
    }
   },
   "outputs": [],
   "source": [
    "! kubectl apply --filename $WORKDIR/agent-myapp-keystore-1.yaml"
   ]
  },
  {
   "cell_type": "markdown",
   "metadata": {
    "vscode": {
     "languageId": "shellscript"
    }
   },
   "source": [
    "Vault Agent Inject despliega un init container así como un sidecar container. El init container se encarga de descargar el secreto y el sidecar lo inyecta en el contenedor principal.\n",
    "> The `init` container will prepopulate the shared memory volume with the requested secrets prior to the other containers starting. The `sidecar` container will continue to authenticate and render secrets to the same location as the pod runs. Using annotations, the initialization and sidecar containers may be disabled."
   ]
  },
  {
   "cell_type": "markdown",
   "metadata": {},
   "source": [
    "Chequeamos los logs del init container"
   ]
  },
  {
   "cell_type": "code",
   "execution_count": null,
   "metadata": {
    "vscode": {
     "languageId": "shellscript"
    }
   },
   "outputs": [],
   "source": [
    "%%bash \n",
    "sleep 10\n",
    "kubectl logs -n usecase\\\n",
    "    $(kubectl get pod -n usecase -l app=agent-myapp-keystore-1 -o jsonpath=\"{.items[0].metadata.name}\") \\\n",
    "    --container vault-agent"
   ]
  },
  {
   "cell_type": "markdown",
   "metadata": {},
   "source": [
    "Verificamos que las dos keys presentes en el secreto se han renderizado en sus respectivos ficheros dentro del path `/vault/secrets`"
   ]
  },
  {
   "cell_type": "code",
   "execution_count": null,
   "metadata": {
    "vscode": {
     "languageId": "shellscript"
    }
   },
   "outputs": [],
   "source": [
    "%%bash\n",
    "kubectl exec -n usecase\\\n",
    "    $(kubectl get pod -n usecase -l app=agent-myapp-keystore-1 -o jsonpath=\"{.items[0].metadata.name}\") \\\n",
    "    --container agent-myapp-keystore-1 -- ls /vault/secrets"
   ]
  },
  {
   "cell_type": "markdown",
   "metadata": {},
   "source": [
    "keysotre.jks contiene el certificado en formato jks (binario)"
   ]
  },
  {
   "cell_type": "code",
   "execution_count": null,
   "metadata": {
    "vscode": {
     "languageId": "shellscript"
    }
   },
   "outputs": [],
   "source": [
    "%%bash\n",
    "kubectl exec -n usecase\\\n",
    "    $(kubectl get pod -n usecase -l app=agent-myapp-keystore-1 -o jsonpath=\"{.items[0].metadata.name}\") \\\n",
    "    --container agent-myapp-keystore-1 -- cat /vault/secrets/keystore.jks"
   ]
  },
  {
   "cell_type": "markdown",
   "metadata": {},
   "source": [
    "password contiene el password del certificado, en este caso en texto plano"
   ]
  },
  {
   "cell_type": "code",
   "execution_count": null,
   "metadata": {
    "vscode": {
     "languageId": "shellscript"
    }
   },
   "outputs": [],
   "source": [
    "%%bash\n",
    "kubectl exec -n usecase\\\n",
    "    $(kubectl get pod -n usecase -l app=agent-myapp-keystore-1 -o jsonpath=\"{.items[0].metadata.name}\") \\\n",
    "    --container agent-myapp-keystore-1 -- cat /vault/secrets/password"
   ]
  },
  {
   "cell_type": "markdown",
   "metadata": {},
   "source": [
    "### Secretos como Texto <a class=\"anchor\" id=\"secretos-como-texto\"></a>"
   ]
  },
  {
   "cell_type": "code",
   "execution_count": null,
   "metadata": {
    "vscode": {
     "languageId": "shellscript"
    }
   },
   "outputs": [],
   "source": [
    "%%bash\n",
    "# API keys (usamos https://codepen.io/corenominal/pen/rxOmMJ para la generación de una API key de ejemplo )\n",
    "API_KEY=\"0796af05-5a14-4aa3-9494-24652f3f3e92\"\n",
    "\n",
    "# Guardamos la API key dentro del secreto static/api/key-1\n",
    "# En este caso no es necesario el uso de base64 ya que el valor es un string\n",
    "# y no un binario\n",
    "vault kv put static/api/key-1 key=$API_KEY"
   ]
  },
  {
   "cell_type": "code",
   "execution_count": null,
   "metadata": {
    "vscode": {
     "languageId": "shellscript"
    }
   },
   "outputs": [],
   "source": [
    "# Leemos el secreto de vuelta\n",
    "# Los metadatos incorporan la versión del secreto y fecha de creación\n",
    "! vault kv get -format=json static/api/key-1 | jq -r ."
   ]
  },
  {
   "cell_type": "code",
   "execution_count": null,
   "metadata": {
    "vscode": {
     "languageId": "shellscript"
    }
   },
   "outputs": [],
   "source": [
    "# Podemos obtener más metadatos de vuelta usando  la opción `metadata`\n",
    "# Que permite ver no sólo cuando se creo el secreto sino también la fecha de última modificación, creación por versiones, número de versiones, estado de softdelete, etc\n",
    "! vault kv metadata get -format=json static/api/key-1 | jq -r ."
   ]
  },
  {
   "cell_type": "code",
   "execution_count": null,
   "metadata": {
    "vscode": {
     "languageId": "shellscript"
    }
   },
   "outputs": [],
   "source": [
    "# Añadimos custom metadata al secreto\n",
    "! vault kv metadata put -custom-metadata=env=\"dev\" -custom-metadata=owner=\"devops\" \\\n",
    "    -custom-metadata=team=\"devops\" \\\n",
    "    -custom-metadata=app=\"myapp\" \\\n",
    "    -custom-metadata=version=\"1.0\" \\\n",
    "    -custom-metadata=description=\"API key for myapp\" \\\n",
    "    static/api/key-1"
   ]
  },
  {
   "cell_type": "code",
   "execution_count": null,
   "metadata": {
    "vscode": {
     "languageId": "shellscript"
    }
   },
   "outputs": [],
   "source": [
    "! vault kv metadata get -format=json static/api/key-1 | jq -r ."
   ]
  },
  {
   "cell_type": "markdown",
   "metadata": {},
   "source": [
    "Para montar el secreto en el POD usaremos tanto VSO como Vault Agent Injector. Los pasos a seguir serán similares al caso previo:\n",
    "* Crear una política que de permisos de lectura al path del secreto (tanto datos como metadatos)\n",
    "* Asociar policy a un K8S Auth Role. Este role asociará la SA de Kubernetes al role.\n",
    "* VSO:\n",
    "  * Creación de CRD para sincronizar el secreto a secreto de kubernetes.\n",
    "  * Creación de POD y montamos el secreto como variable de entorno\n",
    "* Vault Agent Injector\n",
    "  * Creación de POD con anotaciones para montar el secreto como fichero."
   ]
  },
  {
   "cell_type": "code",
   "execution_count": null,
   "metadata": {
    "vscode": {
     "languageId": "shellscript"
    }
   },
   "outputs": [],
   "source": [
    "%%bash\n",
    "vault policy write api-key-policy - <<EOF\n",
    "# Para secretos de tipo kv-v2 podemos usar el path del secreto. En este caso damos acceso tanto a los datos como a los metadatos\n",
    "path \"static/+/api/*\" {\n",
    "    capabilities = [\"read\"]\n",
    "}\n",
    "EOF"
   ]
  },
  {
   "cell_type": "code",
   "execution_count": null,
   "metadata": {
    "vscode": {
     "languageId": "shellscript"
    }
   },
   "outputs": [],
   "source": [
    "%%bash\n",
    "# Creamos un role para el acceso a la API\n",
    "vault write auth/kubernetes/role/apirole \\\n",
    "    bound_service_account_names=apisa \\\n",
    "    bound_service_account_namespaces=usecase \\\n",
    "    policies=api-key-policy \\\n",
    "    ttl=10m"
   ]
  },
  {
   "cell_type": "code",
   "execution_count": null,
   "metadata": {
    "vscode": {
     "languageId": "shellscript"
    }
   },
   "outputs": [],
   "source": [
    "%%bash\n",
    "# Creamos el service account\n",
    "kubectl create serviceaccount apisa -n usecase"
   ]
  },
  {
   "cell_type": "code",
   "execution_count": null,
   "metadata": {
    "vscode": {
     "languageId": "shellscript"
    }
   },
   "outputs": [],
   "source": [
    "%%bash\n",
    "# Creamos el VaultAuth CRD para dar acceso a la API key usando la apisa service account\n",
    "cat > ${WORKDIR}/vaultauth_api_crd.yaml <<EOF\n",
    "---\n",
    "apiVersion: secrets.hashicorp.com/v1beta1\n",
    "kind: VaultAuth\n",
    "metadata:\n",
    "  namespace: vault-secrets-operator\n",
    "  name: apirole\n",
    "spec:\n",
    "  vaultConnectionRef: example\n",
    "  allowedNamespaces: [\"usecase\"]\n",
    "  method: kubernetes\n",
    "  mount: kubernetes\n",
    "\n",
    "  kubernetes:\n",
    "    # role to use when authenticating to Vault\n",
    "    role: apirole\n",
    "    serviceAccount: apisa\n",
    "\n",
    "EOF\n",
    "kubectl apply -f ${WORKDIR}/vaultauth_api_crd.yaml"
   ]
  },
  {
   "cell_type": "code",
   "execution_count": null,
   "metadata": {
    "vscode": {
     "languageId": "shellscript"
    }
   },
   "outputs": [],
   "source": [
    "%%bash\n",
    "## Support KVv1 and KVv2\n",
    "cat > ${WORKDIR}/static_secret_api.yaml <<EOF\n",
    "---\n",
    "apiVersion: secrets.hashicorp.com/v1beta1\n",
    "kind: VaultStaticSecret\n",
    "metadata:\n",
    "  namespace: usecase\n",
    "  name: api-key-1\n",
    "spec:\n",
    "  vaultAuthRef: vault-secrets-operator/apirole # Usamos el VaultAuth objeto creado antes\n",
    "  mount: static\n",
    "  type: kv-v2\n",
    "  path: api/key-1\n",
    "  refreshAfter: 60s\n",
    "  destination:\n",
    "    create: true\n",
    "    name: api-key-1\n",
    "EOF\n",
    "\n",
    "kubectl apply -f ${WORKDIR}/static_secret_api.yaml"
   ]
  },
  {
   "cell_type": "code",
   "execution_count": null,
   "metadata": {
    "vscode": {
     "languageId": "shellscript"
    }
   },
   "outputs": [],
   "source": [
    "%%bash\n",
    "cat > ${WORKDIR}/apipod.yaml <<EOF\n",
    "apiVersion: v1\n",
    "kind: Pod\n",
    "metadata:\n",
    "  name: apipod\n",
    "  namespace: usecase\n",
    "spec:\n",
    "  # Usamos la apisa service account\n",
    "  serviceAccountName: apisa\n",
    "  containers:\n",
    "  - name: apipod\n",
    "    image: nginx\n",
    "    env:\n",
    "    - name: API_KEY\n",
    "      valueFrom:\n",
    "        secretKeyRef:\n",
    "          name: api-key-1\n",
    "          key: key\n",
    "EOF\n",
    "\n",
    "kubectl apply -f ${WORKDIR}/apipod.yaml\n",
    "sleep 10\n",
    "\n"
   ]
  },
  {
   "cell_type": "code",
   "execution_count": null,
   "metadata": {
    "vscode": {
     "languageId": "shellscript"
    }
   },
   "outputs": [],
   "source": [
    "%%bash\n",
    "# Verificamos que el secreto se ha inyectado correctamente como variable de entorno \n",
    "kubectl exec -n usecase apipod -- env | grep API_KEY"
   ]
  },
  {
   "cell_type": "markdown",
   "metadata": {},
   "source": [
    "El ejercicio equivalente con Vault Agent inyector podría realizarse de la siguiente forma"
   ]
  },
  {
   "cell_type": "code",
   "execution_count": null,
   "metadata": {
    "vscode": {
     "languageId": "shellscript"
    }
   },
   "outputs": [],
   "source": [
    "%%bash\n",
    "cat > $WORKDIR/agent-api-key-1.yaml <<EOF\n",
    "apiVersion: apps/v1\n",
    "kind: Deployment\n",
    "metadata:\n",
    "  name: agent-api-key-1\n",
    "  namespace: usecase\n",
    "  labels:\n",
    "    app: agent-api-key-1\n",
    "spec:\n",
    "  selector:\n",
    "    matchLabels:\n",
    "      app: agent-api-key-1\n",
    "  replicas: 1\n",
    "  template:\n",
    "    metadata:\n",
    "      annotations:\n",
    "        vault.hashicorp.com/agent-inject: 'true'\n",
    "        vault.hashicorp.com/role: 'apirole'\n",
    "        vault.hashicorp.com/tls-skip-verify: 'true' # Untrusted cert used here\n",
    "        # Seleccionamos el secreto de la API key\n",
    "        vault.hashicorp.com/agent-inject-secret-api-key: \"static/data/api/key-1\"\n",
    "        # Renderizamos exclusivamente el valor de la API key\n",
    "        vault.hashicorp.com/agent-inject-template-api-key: |\n",
    "          {{- with secret \"static/data/api/key-1\" -}}\n",
    "            {{ .Data.data.key }}\n",
    "          {{- end -}}\n",
    "      labels:\n",
    "        app: agent-api-key-1\n",
    "    spec:\n",
    "      serviceAccountName: apisa\n",
    "      containers:\n",
    "      - name: agent-api-key-1\n",
    "        image: nginx\n",
    "EOF"
   ]
  },
  {
   "cell_type": "code",
   "execution_count": null,
   "metadata": {
    "vscode": {
     "languageId": "shellscript"
    }
   },
   "outputs": [],
   "source": [
    "! kubectl apply --filename $WORKDIR/agent-api-key-1.yaml"
   ]
  },
  {
   "cell_type": "code",
   "execution_count": null,
   "metadata": {
    "vscode": {
     "languageId": "shellscript"
    }
   },
   "outputs": [],
   "source": [
    "%%bash\n",
    "# Esperamos a que el pod esté en estado Running\n",
    "sleep 10\n",
    "# Verificamos que la inyección del secreto ha funcionado\n",
    "kubectl exec -n usecase\\\n",
    "    $(kubectl get pod -n usecase -l app=agent-api-key-1 -o jsonpath=\"{.items[0].metadata.name}\") \\\n",
    "    --container agent-api-key-1 -- cat /vault/secrets/api-key"
   ]
  },
  {
   "cell_type": "markdown",
   "metadata": {},
   "source": [
    "# Almacenando claves de criptografía <a class=\"anchor\" id=\"crypto\"></a>"
   ]
  },
  {
   "cell_type": "code",
   "execution_count": null,
   "metadata": {
    "vscode": {
     "languageId": "shellscript"
    }
   },
   "outputs": [],
   "source": [
    "%%bash\n",
    "# Generamos un par de claves RSA\n",
    "# Clave privada\n",
    "openssl genrsa -out $WORKDIR/private.pem 2048\n",
    "# Clave pública\n",
    "openssl rsa -in $WORKDIR/private.pem -pubout -out $WORKDIR/public.pem"
   ]
  },
  {
   "cell_type": "code",
   "execution_count": null,
   "metadata": {
    "vscode": {
     "languageId": "shellscript"
    }
   },
   "outputs": [],
   "source": [
    "%%bash\n",
    "# Guardamos las claves privada y pública en Vault\n",
    "vault kv put static/oauth/client-1 \\\n",
    "    private_key=\"$(cat $WORKDIR/private.pem)\" \\\n",
    "    public_key=\"$(cat $WORKDIR/public.pem)\""
   ]
  },
  {
   "cell_type": "code",
   "execution_count": null,
   "metadata": {
    "vscode": {
     "languageId": "shellscript"
    }
   },
   "outputs": [],
   "source": [
    "# Leemos el secreto de vuelta\n",
    "! vault kv get -format=json static/oauth/client-1 | jq -r .\n"
   ]
  },
  {
   "cell_type": "code",
   "execution_count": null,
   "metadata": {
    "vscode": {
     "languageId": "shellscript"
    }
   },
   "outputs": [],
   "source": [
    "%%bash\n",
    "# Creamos una policy para el acceso a los secretos de OAuth\n",
    "vault policy write oauth-policy - <<EOF \n",
    "# Para secretos de tipo kv-v2 podemos usar el path del secreto. En este caso damos acceso tanto a los datos como a los metadatos\n",
    "path \"static/+/oauth/*\" {\n",
    "    capabilities = [\"read\"]\n",
    "}\n",
    "EOF"
   ]
  },
  {
   "cell_type": "code",
   "execution_count": null,
   "metadata": {
    "vscode": {
     "languageId": "shellscript"
    }
   },
   "outputs": [],
   "source": [
    "%%bash\n",
    "# Creamos el role para el acceso a los secretos\n",
    "vault write auth/kubernetes/role/oauth-role \\\n",
    "    bound_service_account_names=oauthsa \\\n",
    "    bound_service_account_namespaces=usecase \\\n",
    "    policies=oauth-policy \\\n",
    "    ttl=10m"
   ]
  },
  {
   "cell_type": "code",
   "execution_count": null,
   "metadata": {
    "vscode": {
     "languageId": "shellscript"
    }
   },
   "outputs": [],
   "source": [
    "# Creamos el service account\n",
    "! kubectl create serviceaccount oauthsa -n usecase"
   ]
  },
  {
   "cell_type": "markdown",
   "metadata": {},
   "source": [
    "### VSO"
   ]
  },
  {
   "cell_type": "markdown",
   "metadata": {},
   "source": [
    "VaultAuth para el role oauth-role y service account oauthsa"
   ]
  },
  {
   "cell_type": "code",
   "execution_count": null,
   "metadata": {
    "vscode": {
     "languageId": "shellscript"
    }
   },
   "outputs": [],
   "source": [
    "%%bash\n",
    "# Creamos el VaultAuth CRD para dar acceso a la API key usando la apisa service account\n",
    "cat > ${WORKDIR}/vaultauth_oauth_crd.yaml <<EOF\n",
    "---\n",
    "apiVersion: secrets.hashicorp.com/v1beta1\n",
    "kind: VaultAuth\n",
    "metadata:\n",
    "  namespace: vault-secrets-operator\n",
    "  name: oauth-role\n",
    "spec:\n",
    "  vaultConnectionRef: example\n",
    "  allowedNamespaces: [\"usecase\"]\n",
    "  method: kubernetes\n",
    "  mount: kubernetes\n",
    "\n",
    "  kubernetes:\n",
    "    # role to use when authenticating to Vault\n",
    "    role: oauth-role\n",
    "    serviceAccount: oauthsa\n",
    "\n",
    "EOF\n",
    "kubectl apply -f ${WORKDIR}/vaultauth_oauth_crd.yaml"
   ]
  },
  {
   "cell_type": "markdown",
   "metadata": {},
   "source": [
    "Sincronizamos el secreto usando el VaultAuth previo"
   ]
  },
  {
   "cell_type": "code",
   "execution_count": null,
   "metadata": {
    "vscode": {
     "languageId": "shellscript"
    }
   },
   "outputs": [],
   "source": [
    "%%bash\n",
    "\n",
    "cat > ${WORKDIR}/oauth_secret.yaml <<EOF\n",
    "---\n",
    "apiVersion: secrets.hashicorp.com/v1beta1\n",
    "kind: VaultStaticSecret\n",
    "metadata:\n",
    "  namespace: usecase\n",
    "  name: oauth\n",
    "spec:\n",
    "  vaultAuthRef: vault-secrets-operator/oauth-role\n",
    "  mount: static\n",
    "  type: kv-v2\n",
    "  # Usamos el path del secreto\n",
    "  path: oauth/client-1\n",
    "  destination:\n",
    "    create: true\n",
    "    name: oauth\n",
    "EOF\n",
    "\n",
    "kubectl apply -f ${WORKDIR}/oauth_secret.yaml\n"
   ]
  },
  {
   "cell_type": "markdown",
   "metadata": {},
   "source": [
    "Montamos los secretos en un POD"
   ]
  },
  {
   "cell_type": "code",
   "execution_count": null,
   "metadata": {
    "vscode": {
     "languageId": "shellscript"
    }
   },
   "outputs": [],
   "source": [
    "%%bash\n",
    "cat > ${WORKDIR}/pod_oauth.yaml <<EOF\n",
    "apiVersion: v1\n",
    "kind: Pod\n",
    "metadata:\n",
    "  name: pod-oauth\n",
    "  namespace: usecase\n",
    "spec:\n",
    "  containers:\n",
    "  - name: pod-oauth\n",
    "    image: redis\n",
    "    volumeMounts:\n",
    "    - name: pod-oauth\n",
    "      mountPath: \"/etc/oauth\"\n",
    "      readOnly: true\n",
    "  volumes:\n",
    "  - name: pod-oauth\n",
    "    secret:\n",
    "      secretName: oauth\n",
    "      optional: true\n",
    "EOF\n",
    "\n",
    "# Despliega el POD\n",
    "kubectl apply -f ${WORKDIR}/pod_oauth.yaml"
   ]
  },
  {
   "cell_type": "markdown",
   "metadata": {},
   "source": [
    "Chequeamos el secreto"
   ]
  },
  {
   "cell_type": "code",
   "execution_count": null,
   "metadata": {
    "vscode": {
     "languageId": "shellscript"
    }
   },
   "outputs": [],
   "source": [
    "%%bash\n",
    "# Espera a que despliegue\n",
    "sleep 10 \n",
    "# Chequea secretos\n",
    "kubectl exec pod-oauth -n usecase  -- ls /etc/oauth/\n",
    "echo \"\"\n",
    "echo \"------\"\n",
    "kubectl exec pod-oauth -n usecase -- cat /etc/oauth/private_key\n",
    "echo \"------\"\n",
    "kubectl exec pod-oauth -n usecase -- cat /etc/oauth/public_key"
   ]
  },
  {
   "cell_type": "markdown",
   "metadata": {},
   "source": [
    "### Vault Agent"
   ]
  },
  {
   "cell_type": "code",
   "execution_count": null,
   "metadata": {
    "vscode": {
     "languageId": "shellscript"
    }
   },
   "outputs": [],
   "source": [
    "%%bash\n",
    "cat > $WORKDIR/agent-oauth-1.yaml <<EOF\n",
    "apiVersion: apps/v1\n",
    "kind: Deployment\n",
    "metadata:\n",
    "  name: oauth-client\n",
    "  namespace: usecase\n",
    "  labels:\n",
    "    app: oauth-client\n",
    "spec:\n",
    "  selector:\n",
    "    matchLabels:\n",
    "      app: oauth-client\n",
    "  replicas: 1\n",
    "  template:\n",
    "    metadata:\n",
    "      annotations:\n",
    "        vault.hashicorp.com/agent-inject: 'true'\n",
    "        vault.hashicorp.com/role: \"oauth-role\"\n",
    "        vault.hashicorp.com/tls-skip-verify: 'true' # Untrusted cert used here\n",
    "        vault.hashicorp.com/agent-inject-template-private-key: |\n",
    "          {{- with secret \"static/data/oauth/client-1\" -}}\n",
    "          {{ .Data.data.private_key }}\n",
    "          {{- end -}}\n",
    "        vault.hashicorp.com/agent-inject-template-public-key: |\n",
    "          {{- with secret \"static/data/oauth/client-1\" -}}\n",
    "          {{ .Data.data.public_key }}\n",
    "          {{- end -}}\n",
    "      labels:\n",
    "        app: oauth-client\n",
    "    spec:\n",
    "      serviceAccountName: oauthsa\n",
    "      containers:\n",
    "      - name: oauth-client\n",
    "        image: nginx\n",
    "EOF"
   ]
  },
  {
   "cell_type": "code",
   "execution_count": null,
   "metadata": {
    "vscode": {
     "languageId": "shellscript"
    }
   },
   "outputs": [],
   "source": [
    "%%bash\n",
    "kubectl apply --filename $WORKDIR/agent-oauth-1.yaml\n",
    "sleep 10"
   ]
  },
  {
   "cell_type": "code",
   "execution_count": null,
   "metadata": {
    "vscode": {
     "languageId": "shellscript"
    }
   },
   "outputs": [],
   "source": [
    "%%bash\n",
    "kubectl exec -n usecase \\\n",
    "    $(kubectl get pod -n usecase -l app=oauth-client -o jsonpath=\"{.items[0].metadata.name}\") \\\n",
    "    -- cat /vault/secrets/private-key\n",
    "\n",
    "kubectl exec -n usecase \\\n",
    "    $(kubectl get pod -n usecase -l app=oauth-client -o jsonpath=\"{.items[0].metadata.name}\") \\\n",
    "    -- cat /vault/secrets/public-key"
   ]
  },
  {
   "cell_type": "markdown",
   "metadata": {
    "vscode": {
     "languageId": "shellscript"
    }
   },
   "source": [
    "# Operaciones de Criptografía usando la Transit Secret Engine <a class=\"anchor\" id=\"transit\"></a>"
   ]
  },
  {
   "cell_type": "code",
   "execution_count": null,
   "metadata": {
    "vscode": {
     "languageId": "shellscript"
    }
   },
   "outputs": [],
   "source": [
    "! vault secrets enable transit"
   ]
  },
  {
   "cell_type": "code",
   "execution_count": null,
   "metadata": {
    "vscode": {
     "languageId": "shellscript"
    }
   },
   "outputs": [],
   "source": [
    "! vault write -f transit/keys/orders exportable=true"
   ]
  },
  {
   "cell_type": "markdown",
   "metadata": {},
   "source": [
    "### Encrypt/Decrypt"
   ]
  },
  {
   "cell_type": "code",
   "execution_count": null,
   "metadata": {
    "vscode": {
     "languageId": "shellscript"
    }
   },
   "outputs": [],
   "source": [
    "%%bash\n",
    "# ENCRYPT\n",
    "vault write transit/encrypt/orders plaintext=$(base64 <<< \"4111 1111 1111 1111\") -format=json | jq -r .data.ciphertext\n",
    "\n",
    "export CIPHERTEXT=$(vault write transit/encrypt/orders plaintext=$(base64 <<< \"4111 1111 1111 1111\") -format=json | jq -r .data.ciphertext)\n",
    "\n",
    "# DECRYPT\n",
    "vault write transit/decrypt/orders ciphertext=$CIPHERTEXT -format=json | jq -r .data.plaintext | base64 -d"
   ]
  },
  {
   "cell_type": "code",
   "execution_count": null,
   "metadata": {
    "vscode": {
     "languageId": "shellscript"
    }
   },
   "outputs": [],
   "source": [
    "%%bash\n",
    "# update encryption key\n",
    "vault write -f transit/keys/orders/rotate "
   ]
  },
  {
   "cell_type": "code",
   "execution_count": null,
   "metadata": {
    "vscode": {
     "languageId": "shellscript"
    }
   },
   "outputs": [],
   "source": [
    "%%bash\n",
    "export CIPHERTEXT=$(vault write transit/encrypt/orders plaintext=$(base64 <<< \"4111 1111 1111 1111\") -format=json | jq -r .data.ciphertext)\n",
    "echo $CIPHERTEXT\n",
    "# DECRYPT\n",
    "vault write transit/decrypt/orders ciphertext=$CIPHERTEXT -format=json | jq -r .data.plaintext | base64 -d"
   ]
  },
  {
   "cell_type": "code",
   "execution_count": null,
   "metadata": {
    "vscode": {
     "languageId": "shellscript"
    }
   },
   "outputs": [],
   "source": [
    "%%bash\n",
    "# update encryption key\n",
    "vault write -f transit/keys/orders/rotate "
   ]
  },
  {
   "cell_type": "code",
   "execution_count": null,
   "metadata": {
    "vscode": {
     "languageId": "shellscript"
    }
   },
   "outputs": [],
   "source": [
    "%%bash\n",
    "# Set minimum decryption version\n",
    "vault write transit/keys/orders/config min_decryption_version=3 "
   ]
  },
  {
   "cell_type": "markdown",
   "metadata": {},
   "source": [
    "Intentamos descifran un cyphertext creado usando la versión 2, como hemos definido la versión 3 como  la última a utilizar para desencriptar, la función nos devuelve un error"
   ]
  },
  {
   "cell_type": "code",
   "execution_count": null,
   "metadata": {
    "vscode": {
     "languageId": "shellscript"
    }
   },
   "outputs": [],
   "source": [
    "%%bash\n",
    "# DECRYPT\n",
    "export CIPHERTEXT=\"vault:v2:9WWxS1FxVF+pOmmCc5asxFYqDGJ4B+Cly2mMI2Rpi5MkUC9BuJPtmNduoMOucGAU\"\n",
    "vault write transit/decrypt/orders ciphertext=$CIPHERTEXT -format=json | jq -r .data.plaintext | base64 -d"
   ]
  },
  {
   "cell_type": "markdown",
   "metadata": {},
   "source": [
    "### Signing"
   ]
  },
  {
   "cell_type": "code",
   "execution_count": null,
   "metadata": {
    "vscode": {
     "languageId": "shellscript"
    }
   },
   "outputs": [],
   "source": [
    "! vault write -f  transit/keys/signature type=rsa-4096"
   ]
  },
  {
   "cell_type": "code",
   "execution_count": null,
   "metadata": {
    "vscode": {
     "languageId": "shellscript"
    }
   },
   "outputs": [],
   "source": [
    "%%bash\n",
    "INPUT=$(echo -n \"un string no muy largo\" | base64)\n",
    "# Operación de firma\n",
    "SIGNATURE=$(vault write -format=json transit/sign/signature input=$INPUT hash_algorithm=sha2-256 -format=json | jq -r .data.signature)\n",
    "echo $SIGNATURE\n",
    "\n",
    "# Verificación de firma\n",
    "vault write transit/verify/signature input=$INPUT signature=$SIGNATURE  hash_algorithm=sha2-256"
   ]
  }
 ],
 "metadata": {
  "kernelspec": {
   "display_name": "base",
   "language": "python",
   "name": "python3"
  },
  "language_info": {
   "codemirror_mode": {
    "name": "ipython",
    "version": 3
   },
   "file_extension": ".py",
   "mimetype": "text/x-python",
   "name": "python",
   "nbconvert_exporter": "python",
   "pygments_lexer": "ipython3",
   "version": "3.9.21"
  },
  "orig_nbformat": 4
 },
 "nbformat": 4,
 "nbformat_minor": 2
}
