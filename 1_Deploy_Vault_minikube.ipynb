{
 "cells": [
  {
   "cell_type": "markdown",
   "metadata": {},
   "source": [
    "# 1. Despligue de un cluster de Vault en minikube (sobre Docker)"
   ]
  },
  {
   "attachments": {},
   "cell_type": "markdown",
   "metadata": {},
   "source": [
    "### Basado en el [tutorial](https://developer.hashicorp.com/vault/tutorials/kubernetes/kubernetes-minikube-tls)"
   ]
  },
  {
   "cell_type": "markdown",
   "metadata": {},
   "source": [
    "Eliminamos el perfil webinar"
   ]
  },
  {
   "cell_type": "code",
   "execution_count": null,
   "metadata": {
    "vscode": {
     "languageId": "shellscript"
    }
   },
   "outputs": [],
   "source": [
    "! minikube delete -p webinar"
   ]
  },
  {
   "cell_type": "markdown",
   "metadata": {},
   "source": [
    "Iniciamos Podman desktop"
   ]
  },
  {
   "cell_type": "code",
   "execution_count": null,
   "metadata": {
    "vscode": {
     "languageId": "shellscript"
    }
   },
   "outputs": [],
   "source": [
    "! open -a \"Podman Desktop\""
   ]
  },
  {
   "cell_type": "code",
   "execution_count": null,
   "metadata": {
    "vscode": {
     "languageId": "shellscript"
    }
   },
   "outputs": [],
   "source": [
    "%%bash\n",
    "podman machine init --cpus 4 --memory 4096 --disk-size 20\n",
    "podman machine start\n",
    "podman system connection default podman-machine-default-root\n",
    "podman info"
   ]
  },
  {
   "cell_type": "code",
   "execution_count": null,
   "metadata": {
    "vscode": {
     "languageId": "shellscript"
    }
   },
   "outputs": [],
   "source": [
    "! minikube start -p webinar"
   ]
  },
  {
   "cell_type": "markdown",
   "metadata": {},
   "source": [
    "Por defecto kubectl debería estar apuntando a este clúster, pero en cualquier caso lo vamos a definir explícitamente"
   ]
  },
  {
   "cell_type": "code",
   "execution_count": null,
   "metadata": {
    "vscode": {
     "languageId": "shellscript"
    }
   },
   "outputs": [],
   "source": [
    "! kubectl config use-context webinar"
   ]
  },
  {
   "cell_type": "markdown",
   "metadata": {},
   "source": [
    "Añadimos el repo de HashiCorp para a continuación poder instalar Vault vía helm"
   ]
  },
  {
   "cell_type": "code",
   "execution_count": null,
   "metadata": {
    "vscode": {
     "languageId": "shellscript"
    }
   },
   "outputs": [],
   "source": [
    "%%bash\n",
    "helm repo add hashicorp https://helm.releases.hashicorp.com\n",
    "helm repo update"
   ]
  },
  {
   "cell_type": "markdown",
   "metadata": {},
   "source": [
    "Definimos una serie de variable de entorno con las que trabajaremos a continuación"
   ]
  },
  {
   "cell_type": "code",
   "execution_count": null,
   "metadata": {
    "vscode": {
     "languageId": "shellscript"
    }
   },
   "outputs": [],
   "source": [
    "%env WORKDIR=/tmp/vault\n",
    "%env VAULT_K8S_NAMESPACE=vault\n",
    "%env VAULT_HELM_RELEASE_NAME=vault\n",
    "%env VAULT_SERVICE_NAME=vault-internal \n",
    "%env K8S_CLUSTER_NAME=cluster.local "
   ]
  },
  {
   "cell_type": "markdown",
   "metadata": {},
   "source": [
    "Creamos un directorio temporal donde se almacenaran los certificados, claves de Shamir y root token de Vault"
   ]
  },
  {
   "cell_type": "code",
   "execution_count": null,
   "metadata": {
    "vscode": {
     "languageId": "shellscript"
    }
   },
   "outputs": [],
   "source": [
    "%%bash\n",
    "rm -rf /tmp/vault\n",
    "mkdir /tmp/vault"
   ]
  },
  {
   "cell_type": "markdown",
   "metadata": {},
   "source": [
    "El siguiente paso será la generación de certificados para el clúster de Vault. Usaremos la CA de Kubernetes para firmar dichos certificados. Los ficheros resultantes se guardar en el directorio creado en el paso previo. Como primer paso, procedermos con la creación de un namespace dedicado a Vault."
   ]
  },
  {
   "cell_type": "code",
   "execution_count": null,
   "metadata": {
    "vscode": {
     "languageId": "shellscript"
    }
   },
   "outputs": [],
   "source": [
    "! kubectl create namespace $VAULT_K8S_NAMESPACE"
   ]
  },
  {
   "cell_type": "code",
   "execution_count": null,
   "metadata": {
    "vscode": {
     "languageId": "shellscript"
    }
   },
   "outputs": [],
   "source": [
    "%%bash\n",
    "\n",
    "openssl genrsa -out ${WORKDIR}/vault.key 2048\n",
    "cat > ${WORKDIR}/vault-csr.conf <<EOF\n",
    "[req]\n",
    "default_bits = 2048\n",
    "prompt = no\n",
    "encrypt_key = yes\n",
    "default_md = sha256\n",
    "distinguished_name = kubelet_serving\n",
    "req_extensions = v3_req\n",
    "[ kubelet_serving ]\n",
    "O = system:nodes\n",
    "CN = system:node:*.${VAULT_HELM_RELEASE_NAME}.svc.${K8S_CLUSTER_NAME}\n",
    "[ v3_req ]\n",
    "basicConstraints = CA:FALSE\n",
    "keyUsage = nonRepudiation, digitalSignature, keyEncipherment, dataEncipherment\n",
    "extendedKeyUsage = serverAuth, clientAuth\n",
    "subjectAltName = @alt_names\n",
    "[alt_names]\n",
    "DNS.1 = *.${VAULT_SERVICE_NAME}\n",
    "DNS.2 = *.${VAULT_SERVICE_NAME}.${VAULT_HELM_RELEASE_NAME}.svc.${K8S_CLUSTER_NAME}\n",
    "DNS.3 = *.${VAULT_HELM_RELEASE_NAME}\n",
    "DNS.4 = *.${VAULT_HELM_RELEASE_NAME}.svc.${K8S_CLUSTER_NAME}\n",
    "IP.1 = 127.0.0.1\n",
    "EOF\n",
    "\n",
    "openssl req -new -key ${WORKDIR}/vault.key -out ${WORKDIR}/vault.csr -config ${WORKDIR}/vault-csr.conf\n",
    "\n",
    "\n",
    "cat > ${WORKDIR}/csr.yaml <<EOF\n",
    "apiVersion: certificates.k8s.io/v1\n",
    "kind: CertificateSigningRequest\n",
    "metadata:\n",
    "   name: vault.svc\n",
    "spec:\n",
    "   signerName: kubernetes.io/kubelet-serving\n",
    "   # signerName: kubernetes.io/kubelet-serving\n",
    "   expirationSeconds: 8640000\n",
    "   request: $(cat ${WORKDIR}/vault.csr|base64|tr -d '\\n')\n",
    "   usages:\n",
    "   - digital signature\n",
    "   - key encipherment\n",
    "   - server auth\n",
    "EOF\n",
    "\n",
    "kubectl create -f ${WORKDIR}/csr.yaml\n",
    "kubectl certificate approve vault.svc\n",
    "kubectl get csr vault.svc\n",
    "kubectl get csr vault.svc -o jsonpath='{.status.certificate}' | openssl base64 -d -A -out ${WORKDIR}/vault.crt\n",
    "kubectl config view \\\n",
    "--raw \\\n",
    "--minify \\\n",
    "--flatten \\\n",
    "-o jsonpath='{.clusters[].cluster.certificate-authority-data}' \\\n",
    "| base64 -d > ${WORKDIR}/vault.ca\n",
    "\n",
    "\n",
    "\n",
    "kubectl create secret generic vault-ha-tls \\\n",
    "   -n $VAULT_K8S_NAMESPACE \\\n",
    "   --from-file=vault.key=${WORKDIR}/vault.key \\\n",
    "   --from-file=vault.crt=${WORKDIR}/vault.crt \\\n",
    "   --from-file=vault.ca=${WORKDIR}/vault.ca"
   ]
  },
  {
   "cell_type": "markdown",
   "metadata": {},
   "source": [
    "Aplicaremos una licencia [Enterprise](https://developer.hashicorp.com/vault/docs/platform/k8s/helm/enterprise) al cluster de Vault"
   ]
  },
  {
   "cell_type": "code",
   "execution_count": null,
   "metadata": {
    "vscode": {
     "languageId": "shellscript"
    }
   },
   "outputs": [],
   "source": [
    "%%bash\n",
    "secret=$(cat vault.hclic)\n",
    "kubectl create secret generic vault-ent-license --from-literal=\"license=${secret}\" -n $VAULT_K8S_NAMESPACE"
   ]
  },
  {
   "cell_type": "markdown",
   "metadata": {},
   "source": [
    "Creamos el fichero de configuración con el que instalar Vault. Instalaremos lo siguiente:\n",
    "* Un HA clúster compuesto por 3 nodos con auto_join.\n",
    "* Cluster con TLS usando certificados firmados por la CA de Kubernetes.\n",
    "* Tanto los certificados como las licencias se montaran en un volumen\n",
    "* No aplicaremos (anti-) affinity rules\n",
    "* Instalaremos Vault agent injector\n",
    "```yaml\n",
    "injector:\n",
    "   enabled: true\n",
    "   image:\n",
    "      repository: docker.io/hashicorp/vault-k8s\n",
    "   agentImage:\n",
    "      repository: docker.io/hashicorp/vault\n",
    "````\n",
    "* Habilitaremos el CSI provider\n",
    "```yaml\n",
    "csi:\n",
    "   enabled: true\n",
    "   image:\n",
    "      repository: \"docker.io/hashicorp/vault-csi-provider\"\n",
    "```"
   ]
  },
  {
   "cell_type": "code",
   "execution_count": null,
   "metadata": {
    "vscode": {
     "languageId": "shellscript"
    }
   },
   "outputs": [],
   "source": [
    "%%bash\n",
    "cat > ${WORKDIR}/overrides.yaml <<EOF\n",
    "global:\n",
    "   enabled: true\n",
    "   tlsDisable: false\n",
    "\n",
    "csi:\n",
    "   enabled: true\n",
    "   image:\n",
    "      repository: \"docker.io/hashicorp/vault-csi-provider\"\n",
    "\n",
    "injector:\n",
    "   enabled: true\n",
    "   image:\n",
    "      repository: docker.io/hashicorp/vault-k8s\n",
    "   agentImage:\n",
    "      repository: docker.io/hashicorp/vault\n",
    "\n",
    "# Supported log levels include: trace, debug, info, warn, error\n",
    "logLevel: \"trace\" # Set to trace for initial troubleshooting, info for normal operation\n",
    "\n",
    "server:\n",
    "   image:\n",
    "      repository: docker.io/hashicorp/vault-enterprise\n",
    "      tag: 1.18.3-ent\n",
    "   enterpriseLicense:\n",
    "      secretName: vault-ent-license\n",
    "   extraEnvironmentVars:\n",
    "      VAULT_CACERT: /vault/userconfig/vault-ha-tls/vault.ca\n",
    "      VAULT_TLSCERT: /vault/userconfig/vault-ha-tls/vault.crt\n",
    "      VAULT_TLSKEY: /vault/userconfig/vault-ha-tls/vault.key\n",
    "   volumes:\n",
    "      - name: userconfig-vault-ha-tls\n",
    "        secret:\n",
    "         defaultMode: 420\n",
    "         secretName: vault-ha-tls\n",
    "   volumeMounts:\n",
    "      - mountPath: /vault/userconfig/vault-ha-tls\n",
    "        name: userconfig-vault-ha-tls\n",
    "        readOnly: true\n",
    "   standalone:\n",
    "      enabled: false\n",
    "   affinity: \"\" #No affinity rules so I can install 3 vault instances in a single\n",
    "   ha:\n",
    "      enabled: true\n",
    "      replicas: 3\n",
    "      raft:\n",
    "         enabled: true\n",
    "         setNodeId: true\n",
    "         config: |\n",
    "            ui = true\n",
    "            listener \"tcp\" {\n",
    "               tls_disable = 0 \n",
    "               address = \"[::]:8200\"\n",
    "               cluster_address = \"[::]:8201\"\n",
    "               tls_cert_file = \"/vault/userconfig/vault-ha-tls/vault.crt\"\n",
    "               tls_key_file  = \"/vault/userconfig/vault-ha-tls/vault.key\"\n",
    "               tls_client_ca_file = \"/vault/userconfig/vault-ha-tls/vault.ca\"\n",
    "            }\n",
    "            storage \"raft\" {\n",
    "               path = \"/vault/data\"\n",
    "            \n",
    "               retry_join {\n",
    "                  auto_join             = \"provider=k8s namespace=vault label_selector=\\\"component=server,app.kubernetes.io/name=vault\\\"\"\n",
    "                  auto_join_scheme      = \"https\"\n",
    "                  leader_ca_cert_file   = \"/vault/userconfig/vault-ha-tls/vault.ca\"\n",
    "                  leader_tls_servername = \"vault-0.vault-internal\" #Tiene que matchear una SAN del certificado\n",
    "               }\n",
    "            \n",
    "            }\n",
    "            telemetry {\n",
    "               disable_hostname = true\n",
    "               prometheus_retention_time = \"12h\"\n",
    "            }\n",
    "            disable_mlock = true\n",
    "            service_registration \"kubernetes\" {}\n",
    "      # Vault UI\n",
    "   ui:\n",
    "      enabled: true\n",
    "      serviceType: \"LoadBalancer\"\n",
    "      serviceNodePort: null\n",
    "      externalPort: 8200\n",
    "\n",
    "   \n",
    "EOF"
   ]
  },
  {
   "cell_type": "markdown",
   "metadata": {},
   "source": [
    "Finalmente usando el values.yaml instalamos Vault"
   ]
  },
  {
   "cell_type": "code",
   "execution_count": null,
   "metadata": {
    "vscode": {
     "languageId": "shellscript"
    }
   },
   "outputs": [],
   "source": [
    "! helm install -n $VAULT_K8S_NAMESPACE $VAULT_HELM_RELEASE_NAME hashicorp/vault -f ${WORKDIR}/overrides.yaml"
   ]
  },
  {
   "cell_type": "markdown",
   "metadata": {},
   "source": [
    "Verifiquemos la instalación"
   ]
  },
  {
   "cell_type": "code",
   "execution_count": null,
   "metadata": {
    "vscode": {
     "languageId": "shellscript"
    }
   },
   "outputs": [],
   "source": [
    "! kubectl get events -n vault"
   ]
  },
  {
   "cell_type": "code",
   "execution_count": null,
   "metadata": {
    "vscode": {
     "languageId": "shellscript"
    }
   },
   "outputs": [],
   "source": [
    "! kubectl -n $VAULT_K8S_NAMESPACE get pods #--watch"
   ]
  },
  {
   "cell_type": "markdown",
   "metadata": {},
   "source": [
    "Una vez instalado Vault procedemos a su inicialización. Por simplicidad usaremos una sola **unseal key**"
   ]
  },
  {
   "cell_type": "code",
   "execution_count": null,
   "metadata": {
    "vscode": {
     "languageId": "shellscript"
    }
   },
   "outputs": [],
   "source": [
    "%%bash\n",
    "kubectl exec -n $VAULT_K8S_NAMESPACE vault-0 -- vault operator init \\\n",
    "    -key-shares=1 \\\n",
    "    -key-threshold=1 \\\n",
    "    -format=json > ${WORKDIR}/cluster-keys.json"
   ]
  },
  {
   "cell_type": "markdown",
   "metadata": {},
   "source": [
    "Con la unseal key obtenida en el paso previo procederemos a desellar Vault"
   ]
  },
  {
   "cell_type": "code",
   "execution_count": null,
   "metadata": {
    "vscode": {
     "languageId": "shellscript"
    }
   },
   "outputs": [],
   "source": [
    "%%bash\n",
    "jq -r \".unseal_keys_b64[]\" ${WORKDIR}/cluster-keys.json\n",
    "VAULT_UNSEAL_KEY=$(jq -r \".unseal_keys_b64[]\" ${WORKDIR}/cluster-keys.json)"
   ]
  },
  {
   "cell_type": "markdown",
   "metadata": {},
   "source": [
    "Nodo 0"
   ]
  },
  {
   "cell_type": "code",
   "execution_count": null,
   "metadata": {
    "vscode": {
     "languageId": "shellscript"
    }
   },
   "outputs": [],
   "source": [
    "! kubectl exec -n $VAULT_K8S_NAMESPACE vault-0 -- vault operator unseal $(jq -r \".unseal_keys_b64[]\" ${WORKDIR}/cluster-keys.json)"
   ]
  },
  {
   "cell_type": "markdown",
   "metadata": {},
   "source": [
    "Nodo 1"
   ]
  },
  {
   "cell_type": "code",
   "execution_count": null,
   "metadata": {
    "vscode": {
     "languageId": "shellscript"
    }
   },
   "outputs": [],
   "source": [
    "! kubectl exec -n $VAULT_K8S_NAMESPACE vault-1 -- vault operator unseal $(jq -r \".unseal_keys_b64[]\" ${WORKDIR}/cluster-keys.json)"
   ]
  },
  {
   "cell_type": "markdown",
   "metadata": {},
   "source": [
    "Nodo 2"
   ]
  },
  {
   "cell_type": "code",
   "execution_count": null,
   "metadata": {
    "vscode": {
     "languageId": "shellscript"
    }
   },
   "outputs": [],
   "source": [
    "! kubectl exec -n $VAULT_K8S_NAMESPACE -ti vault-2 -- vault operator unseal $(jq -r \".unseal_keys_b64[]\" ${WORKDIR}/cluster-keys.json)"
   ]
  },
  {
   "cell_type": "code",
   "execution_count": null,
   "metadata": {
    "vscode": {
     "languageId": "shellscript"
    }
   },
   "outputs": [],
   "source": [
    "! kubectl exec -n $VAULT_K8S_NAMESPACE -ti vault-0 -- vault status"
   ]
  },
  {
   "cell_type": "code",
   "execution_count": null,
   "metadata": {
    "vscode": {
     "languageId": "shellscript"
    }
   },
   "outputs": [],
   "source": [
    "! kubectl exec -n $VAULT_K8S_NAMESPACE -ti vault-1 -- vault status"
   ]
  },
  {
   "cell_type": "code",
   "execution_count": null,
   "metadata": {
    "vscode": {
     "languageId": "shellscript"
    }
   },
   "outputs": [],
   "source": [
    "! kubectl exec -n $VAULT_K8S_NAMESPACE -ti vault-2 -- vault status"
   ]
  },
  {
   "attachments": {},
   "cell_type": "markdown",
   "metadata": {},
   "source": [
    "Por último vamos a hacer un port-foward contra Vault para poder operar y crear un archivo de configuración con la URL y root token de Vault"
   ]
  },
  {
   "cell_type": "code",
   "execution_count": null,
   "metadata": {
    "vscode": {
     "languageId": "shellscript"
    }
   },
   "outputs": [],
   "source": [
    "%%bash\n",
    "cat > ${WORKDIR}/config.env <<EOF\n",
    "VAULT_ADDR=https://127.0.0.1:8200\n",
    "VAULT_TOKEN=$(cat $WORKDIR/cluster-keys.json | jq -r \".root_token\")\n",
    "VAULT_CACERT=/tmp/vault/vault.ca\n",
    "\n",
    "EOF"
   ]
  },
  {
   "cell_type": "code",
   "execution_count": null,
   "metadata": {
    "vscode": {
     "languageId": "shellscript"
    }
   },
   "outputs": [],
   "source": [
    "%%bash\n",
    "#  kill -9 $(lsof -t -i:8200)\n",
    "kubectl -n vault port-forward service/vault 8200:8200 "
   ]
  }
 ],
 "metadata": {
  "kernelspec": {
   "display_name": "base",
   "language": "python",
   "name": "python3"
  },
  "language_info": {
   "codemirror_mode": {
    "name": "ipython",
    "version": 3
   },
   "file_extension": ".py",
   "mimetype": "text/x-python",
   "name": "python",
   "nbconvert_exporter": "python",
   "pygments_lexer": "ipython3",
   "version": "3.9.21"
  }
 },
 "nbformat": 4,
 "nbformat_minor": 2
}
