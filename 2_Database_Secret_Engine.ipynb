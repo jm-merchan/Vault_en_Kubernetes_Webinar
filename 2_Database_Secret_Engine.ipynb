{
 "cells": [
  {
   "attachments": {},
   "cell_type": "markdown",
   "id": "0eb61c7e",
   "metadata": {},
   "source": [
    "# [Database Secret Engine](https://developer.hashicorp.com/vault/tutorials/db-credentials/database-secrets)"
   ]
  },
  {
   "cell_type": "code",
   "execution_count": 15,
   "id": "a8cbeebb",
   "metadata": {
    "vscode": {
     "languageId": "shellscript"
    }
   },
   "outputs": [
    {
     "name": "stdout",
     "output_type": "stream",
     "text": [
      "env: WORKDIR=/tmp/vault\n"
     ]
    }
   ],
   "source": [
    "%env WORKDIR=/tmp/vault            "
   ]
  },
  {
   "cell_type": "code",
   "execution_count": 16,
   "id": "1760f9ee",
   "metadata": {},
   "outputs": [],
   "source": [
    "import os\n",
    "from dotenv import load_dotenv\n",
    "\n",
    "load_dotenv(\"/tmp/vault/config.env\")\n",
    "\n",
    "VAULT_TOKEN = os.getenv('VAULT_TOKEN')\n",
    "VAULT_ADDR = os.getenv('VAULT_ADDR')\n",
    "VAULT_CACERT = os.getenv('VAULT_CACERT')"
   ]
  },
  {
   "attachments": {},
   "cell_type": "markdown",
   "id": "fda5480c",
   "metadata": {},
   "source": [
    "## Install PostgreSQL"
   ]
  },
  {
   "cell_type": "code",
   "execution_count": 17,
   "id": "d9d28b1e",
   "metadata": {
    "vscode": {
     "languageId": "shellscript"
    }
   },
   "outputs": [
    {
     "name": "stdout",
     "output_type": "stream",
     "text": [
      "\"bitnami\" already exists with the same configuration, skipping\n",
      "Hang tight while we grab the latest from your chart repositories...\n",
      "...Successfully got an update from the \"secrets-store-csi-driver\" chart repository\n",
      "...Successfully got an update from the \"vault\" chart repository\n",
      "...Successfully got an update from the \"hashicorp\" chart repository\n",
      "...Successfully got an update from the \"postgres-operator-charts\" chart repository\n",
      "...Successfully got an update from the \"jaeger-all-in-one\" chart repository\n",
      "...Successfully got an update from the \"jaegertracing\" chart repository\n",
      "...Successfully got an update from the \"jetstack\" chart repository\n",
      "...Successfully got an update from the \"minio\" chart repository\n",
      "...Successfully got an update from the \"datadog\" chart repository\n",
      "...Successfully got an update from the \"signoz\" chart repository\n",
      "...Successfully got an update from the \"external-secrets\" chart repository\n",
      "...Successfully got an update from the \"gitlab\" chart repository\n",
      "...Successfully got an update from the \"bitnami\" chart repository\n",
      "Update Complete. ⎈Happy Helming!⎈\n",
      "persistentvolume/postgresql-data created\n",
      "persistentvolumeclaim/postgresql-data-claim created\n"
     ]
    },
    {
     "name": "stderr",
     "output_type": "stream",
     "text": [
      "Pulled: registry-1.docker.io/bitnamicharts/postgresql:16.6.6\n",
      "Digest: sha256:a8a0fd5ecbec861cc8462a417a8804c182caa2ee1666abc1a0f8a7f9126c2e40\n"
     ]
    },
    {
     "name": "stdout",
     "output_type": "stream",
     "text": [
      "NAME: postgresql-dev\n",
      "LAST DEPLOYED: Tue May  6 16:27:42 2025\n",
      "NAMESPACE: vault\n",
      "STATUS: deployed\n",
      "REVISION: 1\n",
      "TEST SUITE: None\n",
      "NOTES:\n",
      "CHART NAME: postgresql\n",
      "CHART VERSION: 16.6.6\n",
      "APP VERSION: 17.4.0\n",
      "\n",
      "Did you know there are enterprise versions of the Bitnami catalog? For enhanced secure software supply chain features, unlimited pulls from Docker, LTS support, or application customization, see Bitnami Premium or Tanzu Application Catalog. See https://www.arrow.com/globalecs/na/vendors/bitnami for more information.\n",
      "\n",
      "** Please be patient while the chart is being deployed **\n",
      "\n",
      "PostgreSQL can be accessed via port 5432 on the following DNS names from within your cluster:\n",
      "\n",
      "    postgresql-dev.vault.svc.cluster.local - Read/Write connection\n",
      "\n",
      "To get the password for \"postgres\" run:\n",
      "\n",
      "    export POSTGRES_ADMIN_PASSWORD=$(kubectl get secret --namespace vault postgresql-dev -o jsonpath=\"{.data.postgres-password}\" | base64 -d)\n",
      "\n",
      "To get the password for \"app1\" run:\n",
      "\n",
      "    export POSTGRES_PASSWORD=$(kubectl get secret --namespace vault postgresql-dev -o jsonpath=\"{.data.password}\" | base64 -d)\n",
      "\n",
      "To connect to your database run the following command:\n",
      "\n",
      "    kubectl run postgresql-dev-client --rm --tty -i --restart='Never' --namespace vault --image docker.io/bitnami/postgresql:17.4.0-debian-12-r17 --env=\"PGPASSWORD=$POSTGRES_PASSWORD\" \\\n",
      "      --command -- psql --host postgresql-dev -U app1 -d app_db -p 5432\n",
      "\n",
      "    > NOTE: If you access the container using bash, make sure that you execute \"/opt/bitnami/scripts/postgresql/entrypoint.sh /bin/bash\" in order to avoid the error \"psql: local user with ID 1001} does not exist\"\n",
      "\n",
      "To connect to your database from outside the cluster execute the following commands:\n",
      "\n",
      "    kubectl port-forward --namespace vault svc/postgresql-dev 5432:5432 &\n",
      "    PGPASSWORD=\"$POSTGRES_PASSWORD\" psql --host 127.0.0.1 -U app1 -d app_db -p 5432\n",
      "\n",
      "WARNING: The configured password will be ignored on new installation in case when previous PostgreSQL release was deleted through the helm command. In that case, old PVC will have an old password, and setting it through helm won't take effect. Deleting persistent volumes (PVs) will solve the issue.\n",
      "\n",
      "WARNING: There are \"resources\" sections in the chart not set. Using \"resourcesPreset\" is not recommended for production. For production installations, please set the following values according to your workload needs:\n",
      "  - primary.resources\n",
      "  - readReplicas.resources\n",
      "  - volumePermissions.resources\n",
      "+info https://kubernetes.io/docs/concepts/configuration/manage-resources-containers/\n"
     ]
    }
   ],
   "source": [
    "%%bash\n",
    "\n",
    "export DOCKER_CONFIG=$HOME/.config/containers\n",
    "\n",
    "# Add Helm repository by Bitnami\n",
    "helm repo add bitnami https://charts.bitnami.com/bitnami\n",
    "\n",
    "# Update Helm index charts\n",
    "helm repo update\n",
    "kubectl apply -f local-pv.yaml\n",
    "kubectl apply -f pv-claim.yaml\n",
    "\n",
    "helm install postgresql-dev -f postgres.yaml oci://registry-1.docker.io/bitnamicharts/postgresql -n vault --set volumePermissions.enabled=true"
   ]
  },
  {
   "cell_type": "code",
   "execution_count": null,
   "id": "f33bc83b",
   "metadata": {
    "vscode": {
     "languageId": "shellscript"
    }
   },
   "outputs": [
    {
     "name": "stdout",
     "output_type": "stream",
     "text": [
      "LAST SEEN   TYPE      REASON                  OBJECT                                        MESSAGE\n",
      "89m         Normal    Provisioning            persistentvolumeclaim/data-vault-0            External provisioner is provisioning volume for claim \"vault/data-vault-0\"\n",
      "89m         Normal    ExternalProvisioning    persistentvolumeclaim/data-vault-0            Waiting for a volume to be created either by the external provisioner 'k8s.io/minikube-hostpath' or manually by the system administrator. If volume creation is delayed, please verify that the provisioner is running and correctly registered.\n",
      "89m         Normal    ProvisioningSucceeded   persistentvolumeclaim/data-vault-0            Successfully provisioned volume pvc-ee2f933d-684d-4945-80a2-77dc5071ea90\n",
      "89m         Normal    ExternalProvisioning    persistentvolumeclaim/data-vault-1            Waiting for a volume to be created either by the external provisioner 'k8s.io/minikube-hostpath' or manually by the system administrator. If volume creation is delayed, please verify that the provisioner is running and correctly registered.\n",
      "89m         Normal    Provisioning            persistentvolumeclaim/data-vault-1            External provisioner is provisioning volume for claim \"vault/data-vault-1\"\n",
      "89m         Normal    ProvisioningSucceeded   persistentvolumeclaim/data-vault-1            Successfully provisioned volume pvc-c2338d9c-2c4d-481e-a9ef-ed476d82398f\n",
      "89m         Normal    ExternalProvisioning    persistentvolumeclaim/data-vault-2            Waiting for a volume to be created either by the external provisioner 'k8s.io/minikube-hostpath' or manually by the system administrator. If volume creation is delayed, please verify that the provisioner is running and correctly registered.\n",
      "89m         Normal    Provisioning            persistentvolumeclaim/data-vault-2            External provisioner is provisioning volume for claim \"vault/data-vault-2\"\n",
      "89m         Normal    ProvisioningSucceeded   persistentvolumeclaim/data-vault-2            Successfully provisioned volume pvc-19728e47-4fcb-4fd4-afb6-eb967265697d\n",
      "87m         Normal    Provisioning            persistentvolumeclaim/postgresql-data-claim   External provisioner is provisioning volume for claim \"vault/postgresql-data-claim\"\n",
      "87m         Normal    ExternalProvisioning    persistentvolumeclaim/postgresql-data-claim   Waiting for a volume to be created either by the external provisioner 'k8s.io/minikube-hostpath' or manually by the system administrator. If volume creation is delayed, please verify that the provisioner is running and correctly registered.\n",
      "87m         Normal    ProvisioningSucceeded   persistentvolumeclaim/postgresql-data-claim   Successfully provisioned volume pvc-43411e39-2a91-4ec2-ac80-ec0cdf36d36a\n",
      "7s          Normal    ExternalProvisioning    persistentvolumeclaim/postgresql-data-claim   Waiting for a volume to be created either by the external provisioner 'k8s.io/minikube-hostpath' or manually by the system administrator. If volume creation is delayed, please verify that the provisioner is running and correctly registered.\n",
      "7s          Normal    Provisioning            persistentvolumeclaim/postgresql-data-claim   External provisioner is provisioning volume for claim \"vault/postgresql-data-claim\"\n",
      "7s          Normal    ProvisioningSucceeded   persistentvolumeclaim/postgresql-data-claim   Successfully provisioned volume pvc-142578d0-12f1-4b21-9b31-6a5679293cb5\n",
      "87m         Normal    Scheduled               pod/postgresql-dev-0                          Successfully assigned vault/postgresql-dev-0 to test-1746536226\n",
      "87m         Normal    Pulling                 pod/postgresql-dev-0                          Pulling image \"docker.io/bitnami/os-shell:12-debian-12-r43\"\n",
      "87m         Normal    Pulled                  pod/postgresql-dev-0                          Successfully pulled image \"docker.io/bitnami/os-shell:12-debian-12-r43\" in 6.098s (6.098s including waiting). Image size: 180945104 bytes.\n",
      "87m         Normal    Created                 pod/postgresql-dev-0                          Created container: init-chmod-data\n",
      "87m         Normal    Started                 pod/postgresql-dev-0                          Started container init-chmod-data\n",
      "87m         Normal    Pulling                 pod/postgresql-dev-0                          Pulling image \"docker.io/bitnami/postgresql:17.4.0-debian-12-r17\"\n",
      "87m         Normal    Pulled                  pod/postgresql-dev-0                          Successfully pulled image \"docker.io/bitnami/postgresql:17.4.0-debian-12-r17\" in 16.666s (16.666s including waiting). Image size: 365951797 bytes.\n",
      "87m         Normal    Created                 pod/postgresql-dev-0                          Created container: postgresql\n",
      "87m         Normal    Started                 pod/postgresql-dev-0                          Started container postgresql\n",
      "39m         Normal    Killing                 pod/postgresql-dev-0                          Stopping container postgresql\n",
      "5s          Normal    Scheduled               pod/postgresql-dev-0                          Successfully assigned vault/postgresql-dev-0 to test-1746536226\n",
      "4s          Normal    Pulled                  pod/postgresql-dev-0                          Container image \"docker.io/bitnami/os-shell:12-debian-12-r43\" already present on machine\n",
      "4s          Normal    Created                 pod/postgresql-dev-0                          Created container: init-chmod-data\n",
      "4s          Normal    Started                 pod/postgresql-dev-0                          Started container init-chmod-data\n",
      "3s          Normal    Pulled                  pod/postgresql-dev-0                          Container image \"docker.io/bitnami/postgresql:17.4.0-debian-12-r17\" already present on machine\n",
      "3s          Normal    Created                 pod/postgresql-dev-0                          Created container: postgresql\n",
      "3s          Normal    Started                 pod/postgresql-dev-0                          Started container postgresql\n",
      "87m         Normal    NoPods                  poddisruptionbudget/postgresql-dev            No matching pods found\n",
      "87m         Normal    SuccessfulCreate        statefulset/postgresql-dev                    create Pod postgresql-dev-0 in StatefulSet postgresql-dev successful\n",
      "5s          Normal    NoPods                  poddisruptionbudget/postgresql-dev            No matching pods found\n",
      "5s          Normal    SuccessfulCreate        statefulset/postgresql-dev                    create Pod postgresql-dev-0 in StatefulSet postgresql-dev successful\n",
      "89m         Warning   FailedScheduling        pod/vault-0                                   0/1 nodes are available: pod has unbound immediate PersistentVolumeClaims. preemption: 0/1 nodes are available: 1 Preemption is not helpful for scheduling.\n",
      "89m         Normal    Scheduled               pod/vault-0                                   Successfully assigned vault/vault-0 to test-1746536226\n",
      "89m         Normal    Pulling                 pod/vault-0                                   Pulling image \"docker.io/hashicorp/vault-enterprise:1.18.3-ent\"\n",
      "89m         Normal    Pulled                  pod/vault-0                                   Successfully pulled image \"docker.io/hashicorp/vault-enterprise:1.18.3-ent\" in 9.67s (16.595s including waiting). Image size: 503065876 bytes.\n",
      "89m         Normal    Created                 pod/vault-0                                   Created container: vault\n",
      "89m         Normal    Started                 pod/vault-0                                   Started container vault\n",
      "88m         Warning   Unhealthy               pod/vault-0                                   Readiness probe failed: Key                Value...\n",
      "88m         Warning   Unhealthy               pod/vault-0                                   Readiness probe failed: command timed out: \"/bin/sh -ec vault status -tls-skip-verify\" timed out after 3s\n",
      "88m         Warning   Unhealthy               pod/vault-0                                   Readiness probe failed: Key                Value...\n",
      "88m         Warning   Unhealthy               pod/vault-0                                   Readiness probe failed: Key                Value...\n",
      "89m         Warning   FailedScheduling        pod/vault-1                                   0/1 nodes are available: pod has unbound immediate PersistentVolumeClaims. preemption: 0/1 nodes are available: 1 Preemption is not helpful for scheduling.\n",
      "89m         Normal    Scheduled               pod/vault-1                                   Successfully assigned vault/vault-1 to test-1746536226\n",
      "89m         Normal    Pulling                 pod/vault-1                                   Pulling image \"docker.io/hashicorp/vault-enterprise:1.18.3-ent\"\n",
      "89m         Normal    Pulled                  pod/vault-1                                   Successfully pulled image \"docker.io/hashicorp/vault-enterprise:1.18.3-ent\" in 1.486s (18.081s including waiting). Image size: 503065876 bytes.\n",
      "89m         Normal    Created                 pod/vault-1                                   Created container: vault\n",
      "89m         Normal    Started                 pod/vault-1                                   Started container vault\n",
      "88m         Warning   Unhealthy               pod/vault-1                                   Readiness probe failed: Key                Value...\n",
      "88m         Warning   Unhealthy               pod/vault-1                                   Readiness probe failed: Key                Value...\n",
      "89m         Warning   FailedScheduling        pod/vault-2                                   0/1 nodes are available: pod has unbound immediate PersistentVolumeClaims. preemption: 0/1 nodes are available: 1 Preemption is not helpful for scheduling.\n",
      "89m         Normal    Scheduled               pod/vault-2                                   Successfully assigned vault/vault-2 to test-1746536226\n",
      "89m         Normal    Pulling                 pod/vault-2                                   Pulling image \"docker.io/hashicorp/vault-enterprise:1.18.3-ent\"\n",
      "89m         Normal    Pulled                  pod/vault-2                                   Successfully pulled image \"docker.io/hashicorp/vault-enterprise:1.18.3-ent\" in 1.15s (19.229s including waiting). Image size: 503065876 bytes.\n",
      "89m         Normal    Created                 pod/vault-2                                   Created container: vault\n",
      "89m         Normal    Started                 pod/vault-2                                   Started container vault\n",
      "88m         Warning   Unhealthy               pod/vault-2                                   Readiness probe failed: Key                Value...\n",
      "88m         Warning   Unhealthy               pod/vault-2                                   Readiness probe failed: Key                Value...\n",
      "89m         Normal    Scheduled               pod/vault-agent-injector-57c4c46b7d-xpdlq     Successfully assigned vault/vault-agent-injector-57c4c46b7d-xpdlq to test-1746536226\n",
      "89m         Normal    Pulling                 pod/vault-agent-injector-57c4c46b7d-xpdlq     Pulling image \"docker.io/hashicorp/vault-k8s:1.6.2\"\n",
      "89m         Normal    Pulled                  pod/vault-agent-injector-57c4c46b7d-xpdlq     Successfully pulled image \"docker.io/hashicorp/vault-k8s:1.6.2\" in 4.607s (8.729s including waiting). Image size: 82543997 bytes.\n",
      "89m         Normal    Created                 pod/vault-agent-injector-57c4c46b7d-xpdlq     Created container: sidecar-injector\n",
      "89m         Normal    Started                 pod/vault-agent-injector-57c4c46b7d-xpdlq     Started container sidecar-injector\n",
      "89m         Normal    SuccessfulCreate        replicaset/vault-agent-injector-57c4c46b7d    Created pod: vault-agent-injector-57c4c46b7d-xpdlq\n",
      "89m         Normal    ScalingReplicaSet       deployment/vault-agent-injector               Scaled up replica set vault-agent-injector-57c4c46b7d from 0 to 1\n",
      "89m         Normal    Scheduled               pod/vault-csi-provider-tfk2l                  Successfully assigned vault/vault-csi-provider-tfk2l to test-1746536226\n",
      "89m         Normal    Pulling                 pod/vault-csi-provider-tfk2l                  Pulling image \"docker.io/hashicorp/vault-csi-provider:1.5.0\"\n",
      "89m         Normal    Pulled                  pod/vault-csi-provider-tfk2l                  Successfully pulled image \"docker.io/hashicorp/vault-csi-provider:1.5.0\" in 4.12s (4.121s including waiting). Image size: 66626096 bytes.\n",
      "89m         Normal    Created                 pod/vault-csi-provider-tfk2l                  Created container: vault-csi-provider\n",
      "89m         Normal    Started                 pod/vault-csi-provider-tfk2l                  Started container vault-csi-provider\n",
      "89m         Normal    Pulling                 pod/vault-csi-provider-tfk2l                  Pulling image \"hashicorp/vault:1.19.0\"\n",
      "89m         Normal    Pulled                  pod/vault-csi-provider-tfk2l                  Successfully pulled image \"hashicorp/vault:1.19.0\" in 8.953s (25.753s including waiting). Image size: 489244642 bytes.\n",
      "89m         Normal    Created                 pod/vault-csi-provider-tfk2l                  Created container: vault-agent\n",
      "89m         Normal    Started                 pod/vault-csi-provider-tfk2l                  Started container vault-agent\n",
      "89m         Normal    SuccessfulCreate        daemonset/vault-csi-provider                  Created pod: vault-csi-provider-tfk2l\n",
      "89m         Normal    NoPods                  poddisruptionbudget/vault                     No matching pods found\n",
      "89m         Normal    SuccessfulCreate        statefulset/vault                             create Claim data-vault-0 Pod vault-0 in StatefulSet vault success\n",
      "89m         Normal    SuccessfulCreate        statefulset/vault                             create Pod vault-0 in StatefulSet vault successful\n",
      "89m         Normal    SuccessfulCreate        statefulset/vault                             create Claim data-vault-1 Pod vault-1 in StatefulSet vault success\n",
      "89m         Normal    SuccessfulCreate        statefulset/vault                             create Claim data-vault-2 Pod vault-2 in StatefulSet vault success\n",
      "89m         Normal    SuccessfulCreate        statefulset/vault                             create Pod vault-1 in StatefulSet vault successful\n",
      "89m         Normal    SuccessfulCreate        statefulset/vault                             create Pod vault-2 in StatefulSet vault successful\n"
     ]
    }
   ],
   "source": [
    "# ! kubectl get events -n vault\n",
    "! kubectl get pods -n vault"
   ]
  },
  {
   "cell_type": "code",
   "execution_count": null,
   "id": "36c1de52",
   "metadata": {
    "vscode": {
     "languageId": "shellscript"
    }
   },
   "outputs": [],
   "source": [
    "! kubectl get pods -n vault"
   ]
  },
  {
   "cell_type": "markdown",
   "id": "64b4bef9",
   "metadata": {},
   "source": [
    "Create role that will be used by Vault"
   ]
  },
  {
   "cell_type": "code",
   "execution_count": 19,
   "id": "eda017fc",
   "metadata": {
    "vscode": {
     "languageId": "shellscript"
    }
   },
   "outputs": [
    {
     "name": "stdout",
     "output_type": "stream",
     "text": [
      "Defaulted container \"postgresql\" out of: postgresql, init-chmod-data (init)\n",
      "psql: error: connection to server at \"127.0.0.1\", port 5432 failed: Connection refused\n",
      "\tIs the server running on that host and accepting TCP/IP connections?\n",
      "command terminated with exit code 2\n",
      "Defaulted container \"postgresql\" out of: postgresql, init-chmod-data (init)\n",
      "ERROR:  role \"ro\" does not exist\n",
      "command terminated with exit code 1\n"
     ]
    }
   ],
   "source": [
    "! kubectl exec -it postgresql-dev-0 -n vault -- sh -c 'export PGPASSWORD=StrongPassword; psql --host 127.0.0.1 -U postgres -c \"CREATE ROLE \\\"ro\\\" NOINHERIT;\"'\n",
    "! kubectl exec -it postgresql-dev-0 -n vault -- sh -c 'export PGPASSWORD=StrongPassword; psql --host 127.0.0.1 -U postgres -c \"GRANT SELECT ON ALL TABLES IN SCHEMA public TO \\\"ro\\\";\"'"
   ]
  },
  {
   "attachments": {},
   "cell_type": "markdown",
   "id": "cdcbd4a7",
   "metadata": {},
   "source": [
    "## Enable the database secret engine"
   ]
  },
  {
   "cell_type": "code",
   "execution_count": 8,
   "id": "09a8b436",
   "metadata": {
    "vscode": {
     "languageId": "shellscript"
    }
   },
   "outputs": [
    {
     "name": "stderr",
     "output_type": "stream",
     "text": [
      "Error enabling: Error making API request.\n",
      "\n",
      "URL: POST https://127.0.0.1:8200/v1/sys/mounts/database\n",
      "Code: 400. Errors:\n",
      "\n",
      "* path is already in use at database/\n"
     ]
    },
    {
     "name": "stdout",
     "output_type": "stream",
     "text": [
      "Success! Data written to: database/config/postgresql\n"
     ]
    }
   ],
   "source": [
    "%%bash\n",
    "export POSTGRES_URL=postgresql-dev.vault.svc.cluster.local\n",
    "# Enable engine\n",
    "vault secrets enable database\n",
    "\n",
    "# Configure the database secrets engine with the connection credentials for the Postgres database.\n",
    "vault write database/config/postgresql \\\n",
    "     plugin_name=postgresql-database-plugin \\\n",
    "     connection_url=\"postgresql://{{username}}:{{password}}@$POSTGRES_URL/postgres?sslmode=disable\" \\\n",
    "     allowed_roles=* \\\n",
    "     username=\"postgres\" \\\n",
    "     password=\"StrongPassword\""
   ]
  },
  {
   "attachments": {},
   "cell_type": "markdown",
   "id": "049a6e6d",
   "metadata": {},
   "source": [
    "## Create a role in Vault"
   ]
  },
  {
   "cell_type": "code",
   "execution_count": 9,
   "id": "757a944d",
   "metadata": {
    "vscode": {
     "languageId": "shellscript"
    }
   },
   "outputs": [],
   "source": [
    "%%bash\n",
    "cat > ${WORKDIR}/readonly.sql <<EOF\n",
    "CREATE ROLE \"{{name}}\" WITH LOGIN PASSWORD '{{password}}' VALID UNTIL '{{expiration}}' INHERIT;\n",
    "GRANT ro TO \"{{name}}\";\n",
    "EOF"
   ]
  },
  {
   "cell_type": "code",
   "execution_count": 10,
   "id": "2fd281fb",
   "metadata": {
    "vscode": {
     "languageId": "shellscript"
    }
   },
   "outputs": [
    {
     "name": "stdout",
     "output_type": "stream",
     "text": [
      "Success! Data written to: database/roles/readonly\n"
     ]
    }
   ],
   "source": [
    "%%bash\n",
    "vault write database/roles/readonly \\\n",
    "      db_name=postgresql \\\n",
    "      creation_statements=@${WORKDIR}/readonly.sql \\\n",
    "      default_ttl=60s \\\n",
    "      max_ttl=120s"
   ]
  },
  {
   "attachments": {},
   "cell_type": "markdown",
   "id": "eb6ad239",
   "metadata": {},
   "source": [
    "## Request Credentials"
   ]
  },
  {
   "cell_type": "code",
   "execution_count": 11,
   "id": "941feb15",
   "metadata": {
    "vscode": {
     "languageId": "shellscript"
    }
   },
   "outputs": [
    {
     "name": "stdout",
     "output_type": "stream",
     "text": [
      "{\n",
      "  \"request_id\": \"e9f32915-aca6-a4a2-f9d9-868ec785e637\",\n",
      "  \"lease_id\": \"database/creds/readonly/TOCbS8aXq1kCAf05QbRv1uNf\",\n",
      "  \"lease_duration\": 60,\n",
      "  \"renewable\": true,\n",
      "  \"data\": {\n",
      "    \"password\": \"Xq-XiHxv8yIHLKiqNusV\",\n",
      "    \"username\": \"v-root-readonly-7juPGr2ENeZLYxnbsR5E-1746539284\"\n",
      "  },\n",
      "  \"warnings\": null\n",
      "}\n"
     ]
    }
   ],
   "source": [
    "! vault read -format=json database/creds/readonly "
   ]
  },
  {
   "cell_type": "code",
   "execution_count": 12,
   "id": "96db9ae0",
   "metadata": {
    "vscode": {
     "languageId": "shellscript"
    }
   },
   "outputs": [
    {
     "name": "stdout",
     "output_type": "stream",
     "text": [
      "\u001b[0mAll revocation operations queued successfully!\u001b[0m\n"
     ]
    }
   ],
   "source": [
    "! vault lease revoke -prefix database/creds/readonly"
   ]
  },
  {
   "attachments": {},
   "cell_type": "markdown",
   "id": "9b435420",
   "metadata": {},
   "source": [
    "## Rotate Root password"
   ]
  },
  {
   "cell_type": "code",
   "execution_count": 13,
   "id": "03f7f1fa",
   "metadata": {
    "vscode": {
     "languageId": "shellscript"
    }
   },
   "outputs": [
    {
     "name": "stdout",
     "output_type": "stream",
     "text": [
      "\u001b[0mSuccess! Data written to: database/rotate-root/postgresql\u001b[0m\n"
     ]
    }
   ],
   "source": [
    "! vault write -force database/rotate-root/postgresql"
   ]
  },
  {
   "attachments": {},
   "cell_type": "markdown",
   "id": "3e2fb5f9",
   "metadata": {},
   "source": [
    "## Clean up"
   ]
  },
  {
   "cell_type": "code",
   "execution_count": null,
   "id": "317146c2",
   "metadata": {
    "vscode": {
     "languageId": "shellscript"
    }
   },
   "outputs": [
    {
     "name": "stdout",
     "output_type": "stream",
     "text": [
      "Success! Disabled the secrets engine (if it existed) at: database/\n",
      "release \"postgresql-dev\" uninstalled\n",
      "persistentvolumeclaim \"postgresql-data-claim\" deleted\n"
     ]
    },
    {
     "name": "stderr",
     "output_type": "stream",
     "text": [
      "Warning: deleting cluster-scoped resources, not scoped to the provided namespace\n"
     ]
    },
    {
     "name": "stdout",
     "output_type": "stream",
     "text": [
      "persistentvolume \"postgresql-data\" deleted\n"
     ]
    }
   ],
   "source": [
    "# Run on to clean up\n",
    "# Uncomment to run the cleanup\n",
    "#%%bash\n",
    "vault secrets disable database\n",
    "helm uninstall postgresql-dev -n vault\n",
    "kubectl delete pvc postgresql-data-claim -n vault\n",
    "kubectl delete pv postgresql-data -n vault"
   ]
  }
 ],
 "metadata": {
  "kernelspec": {
   "display_name": "base",
   "language": "python",
   "name": "python3"
  },
  "language_info": {
   "codemirror_mode": {
    "name": "ipython",
    "version": 3
   },
   "file_extension": ".py",
   "mimetype": "text/x-python",
   "name": "python",
   "nbconvert_exporter": "python",
   "pygments_lexer": "ipython3",
   "version": "3.9.21"
  }
 },
 "nbformat": 4,
 "nbformat_minor": 5
}
