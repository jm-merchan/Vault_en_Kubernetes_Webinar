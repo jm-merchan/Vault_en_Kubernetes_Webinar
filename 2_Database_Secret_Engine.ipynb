{
 "cells": [
  {
   "attachments": {},
   "cell_type": "markdown",
   "id": "0eb61c7e",
   "metadata": {},
   "source": [
    "# [Database Secret Engine](https://developer.hashicorp.com/vault/tutorials/db-credentials/database-secrets)"
   ]
  },
  {
   "cell_type": "code",
   "execution_count": null,
   "id": "a8cbeebb",
   "metadata": {
    "vscode": {
     "languageId": "shellscript"
    }
   },
   "outputs": [],
   "source": [
    "%env WORKDIR=/tmp/vault            "
   ]
  },
  {
   "cell_type": "code",
   "execution_count": null,
   "id": "1760f9ee",
   "metadata": {},
   "outputs": [],
   "source": [
    "import os\n",
    "from dotenv import load_dotenv\n",
    "\n",
    "load_dotenv(\"/tmp/vault/config.env\")\n",
    "\n",
    "VAULT_TOKEN = os.getenv('VAULT_TOKEN')\n",
    "VAULT_ADDR = os.getenv('VAULT_ADDR')\n",
    "VAULT_CACERT = os.getenv('VAULT_CACERT')"
   ]
  },
  {
   "attachments": {},
   "cell_type": "markdown",
   "id": "fda5480c",
   "metadata": {},
   "source": [
    "## Install PostgreSQL"
   ]
  },
  {
   "cell_type": "code",
   "execution_count": null,
   "id": "d9d28b1e",
   "metadata": {
    "vscode": {
     "languageId": "shellscript"
    }
   },
   "outputs": [],
   "source": [
    "%%bash\n",
    "\n",
    "export DOCKER_CONFIG=$HOME/.config/containers\n",
    "\n",
    "# Add Helm repository by Bitnami\n",
    "helm repo add bitnami https://charts.bitnami.com/bitnami\n",
    "\n",
    "# Update Helm index charts\n",
    "helm repo update\n",
    "kubectl apply -f local-pv.yaml\n",
    "kubectl apply -f pv-claim.yaml\n",
    "\n",
    "helm install postgresql-dev -f postgres.yaml oci://registry-1.docker.io/bitnamicharts/postgresql -n vault --set volumePermissions.enabled=true"
   ]
  },
  {
   "cell_type": "code",
   "execution_count": null,
   "id": "f33bc83b",
   "metadata": {
    "vscode": {
     "languageId": "shellscript"
    }
   },
   "outputs": [],
   "source": [
    "! kubectl get events -n vault"
   ]
  },
  {
   "cell_type": "markdown",
   "id": "64b4bef9",
   "metadata": {},
   "source": [
    "Create role that will be used by Vault"
   ]
  },
  {
   "cell_type": "code",
   "execution_count": null,
   "id": "eda017fc",
   "metadata": {
    "vscode": {
     "languageId": "shellscript"
    }
   },
   "outputs": [],
   "source": [
    "! kubectl exec -it postgresql-dev-0 -n vault -- sh -c 'export PGPASSWORD=StrongPassword; psql --host 127.0.0.1 -U postgres -c \"CREATE ROLE \\\"ro\\\" NOINHERIT;\"'\n",
    "! kubectl exec -it postgresql-dev-0 -n vault -- sh -c 'export PGPASSWORD=StrongPassword; psql --host 127.0.0.1 -U postgres -c \"GRANT SELECT ON ALL TABLES IN SCHEMA public TO \\\"ro\\\";\"'"
   ]
  },
  {
   "attachments": {},
   "cell_type": "markdown",
   "id": "cdcbd4a7",
   "metadata": {},
   "source": [
    "## Enable the database secret engine"
   ]
  },
  {
   "cell_type": "code",
   "execution_count": null,
   "id": "09a8b436",
   "metadata": {
    "vscode": {
     "languageId": "shellscript"
    }
   },
   "outputs": [],
   "source": [
    "%%bash\n",
    "export POSTGRES_URL=postgresql-dev.vault.svc.cluster.local\n",
    "# Enable engine\n",
    "vault secrets enable database\n",
    "\n",
    "# Configure the database secrets engine with the connection credentials for the Postgres database.\n",
    "vault write database/config/postgresql \\\n",
    "     plugin_name=postgresql-database-plugin \\\n",
    "     connection_url=\"postgresql://{{username}}:{{password}}@$POSTGRES_URL/postgres?sslmode=disable\" \\\n",
    "     allowed_roles=* \\\n",
    "     username=\"postgres\" \\\n",
    "     password=\"StrongPassword\""
   ]
  },
  {
   "attachments": {},
   "cell_type": "markdown",
   "id": "049a6e6d",
   "metadata": {},
   "source": [
    "## Create a role in Vault"
   ]
  },
  {
   "cell_type": "code",
   "execution_count": null,
   "id": "757a944d",
   "metadata": {
    "vscode": {
     "languageId": "shellscript"
    }
   },
   "outputs": [],
   "source": [
    "%%bash\n",
    "cat > ${WORKDIR}/readonly.sql <<EOF\n",
    "CREATE ROLE \"{{name}}\" WITH LOGIN PASSWORD '{{password}}' VALID UNTIL '{{expiration}}' INHERIT;\n",
    "GRANT ro TO \"{{name}}\";\n",
    "EOF"
   ]
  },
  {
   "cell_type": "code",
   "execution_count": null,
   "id": "2fd281fb",
   "metadata": {
    "vscode": {
     "languageId": "shellscript"
    }
   },
   "outputs": [],
   "source": [
    "%%bash\n",
    "vault write database/roles/readonly \\\n",
    "      db_name=postgresql \\\n",
    "      creation_statements=@${WORKDIR}/readonly.sql \\\n",
    "      default_ttl=60s \\\n",
    "      max_ttl=120s"
   ]
  },
  {
   "attachments": {},
   "cell_type": "markdown",
   "id": "eb6ad239",
   "metadata": {},
   "source": [
    "## Request Credentials"
   ]
  },
  {
   "cell_type": "code",
   "execution_count": null,
   "id": "941feb15",
   "metadata": {
    "vscode": {
     "languageId": "shellscript"
    }
   },
   "outputs": [],
   "source": [
    "! vault read -format=json database/creds/readonly "
   ]
  },
  {
   "cell_type": "code",
   "execution_count": null,
   "id": "96db9ae0",
   "metadata": {
    "vscode": {
     "languageId": "shellscript"
    }
   },
   "outputs": [],
   "source": [
    "! vault lease revoke -prefix database/creds/readonly"
   ]
  },
  {
   "attachments": {},
   "cell_type": "markdown",
   "id": "9b435420",
   "metadata": {},
   "source": [
    "## Rotate Root password"
   ]
  },
  {
   "cell_type": "code",
   "execution_count": null,
   "id": "03f7f1fa",
   "metadata": {
    "vscode": {
     "languageId": "shellscript"
    }
   },
   "outputs": [],
   "source": [
    "! vault write -force database/rotate-root/postgresql"
   ]
  },
  {
   "attachments": {},
   "cell_type": "markdown",
   "id": "3e2fb5f9",
   "metadata": {},
   "source": [
    "## Clean up"
   ]
  },
  {
   "cell_type": "code",
   "execution_count": null,
   "id": "317146c2",
   "metadata": {
    "vscode": {
     "languageId": "shellscript"
    }
   },
   "outputs": [],
   "source": [
    "%%bash\n",
    "\n",
    "vault secrets disable database\n",
    "helm uninstall postgresql-dev -n vault\n",
    "kubectl delete pvc postgresql-data-claim -n vault\n",
    "kubectl delete pv postgresql-data -n vault"
   ]
  }
 ],
 "metadata": {
  "kernelspec": {
   "display_name": "base",
   "language": "python",
   "name": "python3"
  },
  "language_info": {
   "codemirror_mode": {
    "name": "ipython",
    "version": 3
   },
   "file_extension": ".py",
   "mimetype": "text/x-python",
   "name": "python",
   "nbconvert_exporter": "python",
   "pygments_lexer": "ipython3",
   "version": "3.9.21"
  }
 },
 "nbformat": 4,
 "nbformat_minor": 5
}
