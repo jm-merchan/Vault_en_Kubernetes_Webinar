{
 "cells": [
  {
   "cell_type": "code",
   "execution_count": null,
   "metadata": {
    "vscode": {
     "languageId": "shellscript"
    }
   },
   "outputs": [],
   "source": [
    "%env  WORKDIR=/tmp/vault\n",
    "%env ROLE_NAME=csi"
   ]
  },
  {
   "cell_type": "markdown",
   "metadata": {},
   "source": [
    "Importamos la dirección, localización del fichero de la CA de Vault así como el Vault token usando [python-dotenv](https://pypi.org/project/python-dotenv/). De esta forma evitamos filtrar el root token de Vault"
   ]
  },
  {
   "cell_type": "code",
   "execution_count": 10,
   "metadata": {},
   "outputs": [],
   "source": [
    "import os\n",
    "from dotenv import load_dotenv\n",
    "\n",
    "load_dotenv(\"/tmp/vault/config.env\")\n",
    "\n",
    "VAULT_TOKEN = os.getenv('VAULT_TOKEN')\n",
    "VAULT_ADDR = os.getenv('VAULT_ADDR')\n",
    "VAULT_CACERT = os.getenv('VAULT_CACERT')"
   ]
  },
  {
   "cell_type": "markdown",
   "metadata": {},
   "source": [
    "Creamos una service account que será usada por un POD en el namespace test"
   ]
  },
  {
   "cell_type": "code",
   "execution_count": null,
   "metadata": {
    "vscode": {
     "languageId": "shellscript"
    }
   },
   "outputs": [],
   "source": [
    "! kubectl create sa $ROLE_NAME -n test"
   ]
  },
  {
   "cell_type": "markdown",
   "metadata": {},
   "source": [
    "Extendemos el role creado previamente para permitir el acceso de la SA que se acaba de crear"
   ]
  },
  {
   "cell_type": "code",
   "execution_count": null,
   "metadata": {
    "vscode": {
     "languageId": "shellscript"
    }
   },
   "outputs": [],
   "source": [
    "%%bash\n",
    "\n",
    "vault write auth/kubernetes/role/role \\\n",
    "    bound_service_account_names=default,internal-app,$ROLE_NAME \\\n",
    "    bound_service_account_namespaces=test \\\n",
    "    policies=devk8s \\\n",
    "    ttl=10m"
   ]
  },
  {
   "cell_type": "markdown",
   "metadata": {},
   "source": [
    "## Instalamos el CSI driver"
   ]
  },
  {
   "cell_type": "code",
   "execution_count": null,
   "metadata": {
    "vscode": {
     "languageId": "shellscript"
    }
   },
   "outputs": [],
   "source": [
    "! helm repo add secrets-store-csi-driver https://kubernetes-sigs.github.io/secrets-store-csi-driver/charts"
   ]
  },
  {
   "cell_type": "code",
   "execution_count": null,
   "metadata": {
    "vscode": {
     "languageId": "shellscript"
    }
   },
   "outputs": [],
   "source": [
    "! helm install csi secrets-store-csi-driver/secrets-store-csi-driver --set syncSecret.enabled=true"
   ]
  },
  {
   "cell_type": "code",
   "execution_count": null,
   "metadata": {
    "vscode": {
     "languageId": "shellscript"
    }
   },
   "outputs": [],
   "source": [
    "! kubectl get pods"
   ]
  },
  {
   "cell_type": "markdown",
   "metadata": {},
   "source": [
    "## Instalamos un SecretProviderClass que apunta a Vault"
   ]
  },
  {
   "cell_type": "code",
   "execution_count": 40,
   "metadata": {
    "vscode": {
     "languageId": "shellscript"
    }
   },
   "outputs": [],
   "source": [
    "%%bash\n",
    "cat > $WORKDIR/spc-vault-database.yaml <<EOF\n",
    "apiVersion: secrets-store.csi.x-k8s.io/v1\n",
    "kind: SecretProviderClass\n",
    "metadata:\n",
    "  name: vault-database\n",
    "  namespace: test\n",
    "spec:\n",
    "  provider: vault\n",
    "  parameters:\n",
    "    vaultAddress: \"https://vault.vault.svc.cluster.local:8200\"\n",
    "    vaultSkipTLSVerify: \"true\"\n",
    "    roleName: \"role\"\n",
    "    objects: |\n",
    "      - objectName: \"db-username\"\n",
    "        secretPath: \"database/creds/readonly\"\n",
    "        secretKey: \"username\"\n",
    "      - objectName: \"db-password\"\n",
    "        secretPath: \"database/creds/readonly\"\n",
    "        secretKey: \"password\"\n",
    "EOF\n"
   ]
  },
  {
   "cell_type": "code",
   "execution_count": null,
   "metadata": {
    "vscode": {
     "languageId": "shellscript"
    }
   },
   "outputs": [],
   "source": [
    "! kubectl apply --filename $WORKDIR/spc-vault-database.yaml"
   ]
  },
  {
   "cell_type": "code",
   "execution_count": null,
   "metadata": {
    "vscode": {
     "languageId": "shellscript"
    }
   },
   "outputs": [],
   "source": [
    "! kubectl describe SecretProviderClass vault-database -n test"
   ]
  },
  {
   "cell_type": "markdown",
   "metadata": {},
   "source": [
    "Creamos un POD que monte el secreto"
   ]
  },
  {
   "cell_type": "code",
   "execution_count": 32,
   "metadata": {
    "vscode": {
     "languageId": "shellscript"
    }
   },
   "outputs": [],
   "source": [
    "%%bash\n",
    "cat > $WORKDIR/csi-pod.yaml <<EOF\n",
    "apiVersion: v1\n",
    "kind: Pod\n",
    "metadata:\n",
    "  name: webapp\n",
    "  namespace: test\n",
    "spec:\n",
    "  serviceAccountName: $ROLE_NAME\n",
    "  containers:\n",
    "  - image: nginx\n",
    "    name: csi-pod\n",
    "    volumeMounts:\n",
    "    - name: secrets-csi\n",
    "      mountPath: \"/mnt/secrets-store\"\n",
    "      readOnly: true\n",
    "  volumes:\n",
    "    - name: secrets-csi\n",
    "      csi:\n",
    "        driver: secrets-store.csi.k8s.io\n",
    "        readOnly: true\n",
    "        volumeAttributes:\n",
    "          secretProviderClass: \"vault-database\"\n",
    "EOF"
   ]
  },
  {
   "cell_type": "code",
   "execution_count": null,
   "metadata": {
    "vscode": {
     "languageId": "shellscript"
    }
   },
   "outputs": [],
   "source": [
    "! kubectl apply --filename $WORKDIR/csi-pod.yaml"
   ]
  },
  {
   "cell_type": "code",
   "execution_count": null,
   "metadata": {
    "vscode": {
     "languageId": "shellscript"
    }
   },
   "outputs": [],
   "source": [
    "! kubectl exec webapp -i -t -n test -- cat /mnt/secrets-store/db-username \n",
    "! echo \"\\n\"\n",
    "! kubectl exec webapp -i -t -n test -- cat /mnt/secrets-store/db-password "
   ]
  },
  {
   "cell_type": "markdown",
   "metadata": {},
   "source": [
    "A diferencia del Vault agent o VSO, los secretos dinámicos no se refrescan en runtime"
   ]
  },
  {
   "cell_type": "code",
   "execution_count": null,
   "metadata": {
    "vscode": {
     "languageId": "shellscript"
    }
   },
   "outputs": [],
   "source": [
    "%%bash\n",
    "sleep 120\n",
    "kubectl exec webapp -i -t -n test -- cat /mnt/secrets-store/db-username \n",
    "echo \"\\n\"\n",
    "kubectl exec webapp -i -t -n test -- cat /mnt/secrets-store/db-password "
   ]
  }
 ],
 "metadata": {
  "kernelspec": {
   "display_name": "base",
   "language": "python",
   "name": "python3"
  },
  "language_info": {
   "codemirror_mode": {
    "name": "ipython",
    "version": 3
   },
   "file_extension": ".py",
   "mimetype": "text/x-python",
   "name": "python",
   "nbconvert_exporter": "python",
   "pygments_lexer": "ipython3",
   "version": "3.9.21"
  },
  "orig_nbformat": 4
 },
 "nbformat": 4,
 "nbformat_minor": 2
}
