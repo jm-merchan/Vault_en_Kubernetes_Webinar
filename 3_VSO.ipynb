{
 "cells": [
  {
   "cell_type": "markdown",
   "metadata": {},
   "source": [
    "# 1. Configura Kubernetes Authentication"
   ]
  },
  {
   "cell_type": "code",
   "execution_count": null,
   "metadata": {
    "vscode": {
     "languageId": "shellscript"
    }
   },
   "outputs": [],
   "source": [
    "%env WORKDIR=/tmp/vault\n",
    "%env VAULT_K8S_NAMESPACE=vault\n",
    "%env VAULT_HELM_RELEASE_NAME=vault\n",
    "%env VAULT_SERVICE_NAME=vault-internal \n",
    "%env K8S_CLUSTER_NAME=cluster.local "
   ]
  },
  {
   "cell_type": "markdown",
   "metadata": {},
   "source": [
    "Importamos la dirección, localización del fichero de la CA de Vault así como el Vault token usando [python-dotenv](https://pypi.org/project/python-dotenv/). De esta forma evitamos filtrar el root token de Vault"
   ]
  },
  {
   "cell_type": "code",
   "execution_count": null,
   "metadata": {},
   "outputs": [],
   "source": [
    "import os\n",
    "from dotenv import load_dotenv\n",
    "\n",
    "load_dotenv(\"/tmp/vault/config.env\")\n",
    "\n",
    "VAULT_TOKEN = os.getenv('VAULT_TOKEN')\n",
    "VAULT_ADDR = os.getenv('VAULT_ADDR')\n",
    "VAULT_CACERT = os.getenv('VAULT_CACERT')\n"
   ]
  },
  {
   "cell_type": "markdown",
   "metadata": {},
   "source": [
    "Habilitamos Kubernetes Auth Method usando el path por defecto (```kubernetes```)"
   ]
  },
  {
   "cell_type": "code",
   "execution_count": null,
   "metadata": {
    "vscode": {
     "languageId": "shellscript"
    }
   },
   "outputs": [],
   "source": [
    "! vault auth enable kubernetes"
   ]
  },
  {
   "cell_type": "markdown",
   "metadata": {},
   "source": [
    "Configuramos Vault para que hable con la API del clúster local usando su propia CA. La SA que usa Vault tiene permisos para verificar los tokens presnetados contra la API de Vault contra la API de Kubernetes."
   ]
  },
  {
   "cell_type": "code",
   "execution_count": null,
   "metadata": {
    "vscode": {
     "languageId": "shellscript"
    }
   },
   "outputs": [],
   "source": [
    "%%bash\n",
    "HOST=$(kubectl get svc kubernetes -o json | jq -r .spec.clusterIP)\n",
    "PORT=$(kubectl get svc kubernetes -o json | jq -r '.spec.ports.[0].port')\n",
    "vault write auth/kubernetes/config kubernetes_host=https://$HOST:$PORT"
   ]
  },
  {
   "cell_type": "markdown",
   "metadata": {},
   "source": [
    "Creamos un role que será usado por las aplicaciones vía VSO para acceder a los secretos de Vault"
   ]
  },
  {
   "cell_type": "code",
   "execution_count": null,
   "metadata": {
    "vscode": {
     "languageId": "shellscript"
    }
   },
   "outputs": [],
   "source": [
    "%%bash\n",
    "\n",
    "vault write auth/kubernetes/role/role \\\n",
    "    bound_service_account_names=default \\\n",
    "    bound_service_account_namespaces=test \\\n",
    "    policies=devk8s \\\n",
    "    ttl=10m"
   ]
  },
  {
   "attachments": {},
   "cell_type": "markdown",
   "metadata": {},
   "source": [
    "Y la política asociada al role que hemos creado en el paso previos"
   ]
  },
  {
   "cell_type": "code",
   "execution_count": null,
   "metadata": {
    "vscode": {
     "languageId": "shellscript"
    }
   },
   "outputs": [],
   "source": [
    "%%bash\n",
    "vault policy write devk8s - <<EOF\n",
    "path \"kvv2/*\" {\n",
    "  capabilities = [\"read\"]\n",
    "}\n",
    "EOF"
   ]
  },
  {
   "cell_type": "markdown",
   "metadata": {},
   "source": [
    "### Creamos un secreto estático en Vault"
   ]
  },
  {
   "cell_type": "markdown",
   "metadata": {},
   "source": [
    "Habilitamos la engine"
   ]
  },
  {
   "cell_type": "code",
   "execution_count": null,
   "metadata": {
    "vscode": {
     "languageId": "shellscript"
    }
   },
   "outputs": [],
   "source": [
    "! vault secrets enable -path=kvv2 kv-v2"
   ]
  },
  {
   "cell_type": "markdown",
   "metadata": {},
   "source": [
    "Creamos un secreto"
   ]
  },
  {
   "cell_type": "code",
   "execution_count": null,
   "metadata": {
    "vscode": {
     "languageId": "shellscript"
    }
   },
   "outputs": [],
   "source": [
    "! vault kv put kvv2/webapp/config username=\"static-user\" password=\"static-password\""
   ]
  },
  {
   "attachments": {},
   "cell_type": "markdown",
   "metadata": {},
   "source": [
    "# 2. Instalando el VSO usando helm. [Referencia](https://developer.hashicorp.com/vault/docs/platform/k8s/vso/installation)"
   ]
  },
  {
   "cell_type": "code",
   "execution_count": null,
   "metadata": {
    "vscode": {
     "languageId": "shellscript"
    }
   },
   "outputs": [],
   "source": [
    "%%bash\n",
    "helm repo add hashicorp https://helm.releases.hashicorp.com\n",
    "helm repo update\n",
    "# Los recursos se instalaran en el namespace vault-secrets-operator\n",
    "helm install --version 0.9.1 --create-namespace --namespace vault-secrets-operator vault-secrets-operator hashicorp/vault-secrets-operator"
   ]
  },
  {
   "cell_type": "code",
   "execution_count": null,
   "metadata": {
    "vscode": {
     "languageId": "shellscript"
    }
   },
   "outputs": [],
   "source": [
    "! kubectl get events -n vault-secrets-operator"
   ]
  },
  {
   "cell_type": "code",
   "execution_count": null,
   "metadata": {
    "vscode": {
     "languageId": "shellscript"
    }
   },
   "outputs": [],
   "source": [
    "! kubectl get pods -n vault-secrets-operator"
   ]
  },
  {
   "cell_type": "markdown",
   "metadata": {},
   "source": [
    "### Instalamos los CRDs"
   ]
  },
  {
   "cell_type": "markdown",
   "metadata": {},
   "source": [
    "[VaultConnection](https://developer.hashicorp.com/vault/docs/platform/k8s/vso/api-reference#vaultconnectionspec)"
   ]
  },
  {
   "cell_type": "code",
   "execution_count": null,
   "metadata": {
    "vscode": {
     "languageId": "shellscript"
    }
   },
   "outputs": [],
   "source": [
    "%%bash\n",
    "\n",
    "cat > ${WORKDIR}/vso_crd.yaml <<EOF\n",
    "---\n",
    "apiVersion: secrets.hashicorp.com/v1beta1\n",
    "kind: VaultConnection\n",
    "metadata:\n",
    "  namespace: vault-secrets-operator\n",
    "  name: example\n",
    "spec:\n",
    "  address: https://vault.vault.svc.cluster.local:8200\n",
    "  skipTLSVerify: true\n",
    "\n",
    "EOF\n",
    "\n",
    "kubectl apply -f ${WORKDIR}/vso_crd.yaml"
   ]
  },
  {
   "cell_type": "markdown",
   "metadata": {},
   "source": [
    "Verify VaultConnection is being deployed"
   ]
  },
  {
   "cell_type": "code",
   "execution_count": null,
   "metadata": {
    "vscode": {
     "languageId": "shellscript"
    }
   },
   "outputs": [],
   "source": [
    "! kubectl describe VaultConnection example -n vault-secrets-operator"
   ]
  },
  {
   "cell_type": "markdown",
   "metadata": {},
   "source": [
    "[VaultAuth](https://developer.hashicorp.com/vault/docs/platform/k8s/vso/api-reference#vaultauthspec)"
   ]
  },
  {
   "cell_type": "code",
   "execution_count": null,
   "metadata": {
    "vscode": {
     "languageId": "shellscript"
    }
   },
   "outputs": [],
   "source": [
    "%%bash\n",
    "cat > ${WORKDIR}/vaultauth_crd.yaml <<EOF\n",
    "---\n",
    "apiVersion: secrets.hashicorp.com/v1beta1\n",
    "kind: VaultAuth\n",
    "metadata:\n",
    "  namespace: vault-secrets-operator\n",
    "  name: example\n",
    "spec:\n",
    "  vaultConnectionRef: example\n",
    "  allowedNamespaces: [\"*\"]\n",
    "  method: kubernetes\n",
    "  mount: kubernetes\n",
    "\n",
    "  kubernetes:\n",
    "    # role to use when authenticating to Vault\n",
    "    role: role\n",
    "    serviceAccount: default\n",
    "\n",
    "EOF\n",
    "kubectl apply -f ${WORKDIR}/vaultauth_crd.yaml\n"
   ]
  },
  {
   "cell_type": "markdown",
   "metadata": {},
   "source": [
    "Verify VaultAuth is being deployed"
   ]
  },
  {
   "cell_type": "code",
   "execution_count": null,
   "metadata": {
    "vscode": {
     "languageId": "shellscript"
    }
   },
   "outputs": [],
   "source": [
    "! kubectl describe VaultAuth example -n vault-secrets-operator"
   ]
  },
  {
   "cell_type": "markdown",
   "metadata": {},
   "source": [
    "[VaultStaticSecret](https://developer.hashicorp.com/vault/docs/platform/k8s/vso/api-reference#vaultstaticsecretspec)\n"
   ]
  },
  {
   "cell_type": "code",
   "execution_count": null,
   "metadata": {
    "vscode": {
     "languageId": "shellscript"
    }
   },
   "outputs": [],
   "source": [
    "! kubectl create ns test"
   ]
  },
  {
   "cell_type": "code",
   "execution_count": null,
   "metadata": {
    "vscode": {
     "languageId": "shellscript"
    }
   },
   "outputs": [],
   "source": [
    "%%bash\n",
    "## Support KVv1 and KVv2\n",
    "cat > ${WORKDIR}/static_secret.yaml <<EOF\n",
    "---\n",
    "apiVersion: secrets.hashicorp.com/v1beta1\n",
    "kind: VaultStaticSecret\n",
    "metadata:\n",
    "  namespace: test\n",
    "  name: example\n",
    "spec:\n",
    "  vaultAuthRef: vault-secrets-operator/example\n",
    "  mount: kvv2\n",
    "  type: kv-v2\n",
    "  path: webapp/config\n",
    "  refreshAfter: 60s\n",
    "  destination:\n",
    "    create: true\n",
    "    name: static-secret1\n",
    "EOF\n",
    "\n",
    "kubectl apply -f ${WORKDIR}/static_secret.yaml"
   ]
  },
  {
   "cell_type": "markdown",
   "metadata": {},
   "source": [
    "Verificamos que el secreto se sincroniza"
   ]
  },
  {
   "cell_type": "code",
   "execution_count": null,
   "metadata": {
    "vscode": {
     "languageId": "shellscript"
    }
   },
   "outputs": [],
   "source": [
    "! kubectl describe VaultStaticSecret example -n test"
   ]
  },
  {
   "cell_type": "markdown",
   "metadata": {},
   "source": [
    "Por último veriquemos que podemos leer el secreto (decodificar el base64)"
   ]
  },
  {
   "cell_type": "code",
   "execution_count": null,
   "metadata": {
    "vscode": {
     "languageId": "shellscript"
    }
   },
   "outputs": [],
   "source": [
    "%%bash\n",
    "echo \"USERNAME: $(kubectl get secret static-secret1 -n test -o json | jq -r .data.username | base64 -d)\"\n",
    "echo \"PASSWORD: $(kubectl get secret static-secret1 -n test -o json | jq -r .data.password | base64 -d)\""
   ]
  },
  {
   "cell_type": "code",
   "execution_count": null,
   "metadata": {
    "vscode": {
     "languageId": "shellscript"
    }
   },
   "outputs": [],
   "source": [
    "%%bash\n",
    "cat > ${WORKDIR}/mypod.yaml <<EOF\n",
    "apiVersion: v1\n",
    "kind: Pod\n",
    "metadata:\n",
    "  name: mypod\n",
    "  namespace: test\n",
    "spec:\n",
    "  containers:\n",
    "  - name: mypod\n",
    "    image: nginx\n",
    "    env:\n",
    "    - name: USERNAME\n",
    "      valueFrom:\n",
    "        secretKeyRef:\n",
    "          name: static-secret1\n",
    "          key: username\n",
    "    - name: PASSWORD\n",
    "      valueFrom:\n",
    "        secretKeyRef:\n",
    "          name: static-secret1\n",
    "          key: password\n",
    "EOF\n",
    "\n",
    "kubectl apply -f ${WORKDIR}/mypod.yaml\n",
    "sleep 10\n",
    "\n"
   ]
  },
  {
   "cell_type": "code",
   "execution_count": null,
   "metadata": {
    "vscode": {
     "languageId": "shellscript"
    }
   },
   "outputs": [],
   "source": [
    "! kubectl exec mypod -n test -- env | grep -E 'USERNAME|PASSWORD'"
   ]
  },
  {
   "attachments": {},
   "cell_type": "markdown",
   "metadata": {},
   "source": [
    "### Dynamic Secrets"
   ]
  },
  {
   "cell_type": "markdown",
   "metadata": {},
   "source": [
    "Actualizar la políticas con permisos de lectura al path de la database"
   ]
  },
  {
   "cell_type": "code",
   "execution_count": null,
   "metadata": {
    "vscode": {
     "languageId": "shellscript"
    }
   },
   "outputs": [],
   "source": [
    "%%bash\n",
    "\n",
    "vault policy write devk8s - <<EOF\n",
    "path \"kvv2/*\" {\n",
    "  capabilities = [\"read\"]\n",
    "}\n",
    "path \"database/creds/readonly\" {\n",
    "  capabilities = [ \"read\"]\n",
    "}\n",
    "EOF"
   ]
  },
  {
   "cell_type": "markdown",
   "metadata": {},
   "source": [
    "[VaultDynamicSecret](https://developer.hashicorp.com/vault/docs/platform/k8s/vso/api-reference#vaultdynamicsecretspec)"
   ]
  },
  {
   "cell_type": "code",
   "execution_count": null,
   "metadata": {
    "vscode": {
     "languageId": "shellscript"
    }
   },
   "outputs": [],
   "source": [
    "%%bash\n",
    "\n",
    "cat > ${WORKDIR}/dynamic_secret.yaml <<EOF\n",
    "---\n",
    "apiVersion: secrets.hashicorp.com/v1beta1\n",
    "kind: VaultDynamicSecret\n",
    "metadata:\n",
    "  namespace: test\n",
    "  name: db-secret\n",
    "spec:\n",
    "  vaultAuthRef: vault-secrets-operator/example\n",
    "  mount: database\n",
    "  path: creds/readonly\n",
    "  destination:\n",
    "    create: true\n",
    "    name: db-secret\n",
    "EOF\n",
    "\n",
    "kubectl apply -f ${WORKDIR}/dynamic_secret.yaml\n"
   ]
  },
  {
   "cell_type": "markdown",
   "metadata": {},
   "source": [
    "Verificar que el secreto ha sido sincronizado"
   ]
  },
  {
   "cell_type": "code",
   "execution_count": null,
   "metadata": {
    "vscode": {
     "languageId": "shellscript"
    }
   },
   "outputs": [],
   "source": [
    "%%bash\n",
    "sleep 5\n",
    "kubectl get secret db-secret -n test -o yaml"
   ]
  },
  {
   "cell_type": "markdown",
   "metadata": {},
   "source": [
    "Ahora decodificando el base64"
   ]
  },
  {
   "cell_type": "code",
   "execution_count": null,
   "metadata": {
    "vscode": {
     "languageId": "shellscript"
    }
   },
   "outputs": [],
   "source": [
    "%%bash\n",
    "echo \"USERNAME: $(kubectl get secret db-secret -n test -o json | jq -r .data.username | base64 -d)\"\n",
    "echo \"PASSWORD: $(kubectl get secret db-secret -n test -o json | jq -r .data.password | base64 -d)\""
   ]
  },
  {
   "cell_type": "markdown",
   "metadata": {},
   "source": [
    "### Montemos el secreto en un POD"
   ]
  },
  {
   "cell_type": "code",
   "execution_count": null,
   "metadata": {
    "vscode": {
     "languageId": "shellscript"
    }
   },
   "outputs": [],
   "source": [
    "%%bash\n",
    "cat > ${WORKDIR}/mypod_db.yaml <<EOF\n",
    "apiVersion: v1\n",
    "kind: Pod\n",
    "metadata:\n",
    "  name: mypoddb\n",
    "  namespace: test\n",
    "spec:\n",
    "  containers:\n",
    "  - name: mypod\n",
    "    image: redis\n",
    "    volumeMounts:\n",
    "    - name: foo\n",
    "      mountPath: \"/etc/foo\"\n",
    "      readOnly: true\n",
    "  volumes:\n",
    "  - name: foo\n",
    "    secret:\n",
    "      secretName: db-secret\n",
    "      optional: true\n",
    "EOF\n",
    "\n",
    "\n",
    "# Despliega el POD\n",
    "kubectl apply -f ${WORKDIR}/mypod_db.yaml"
   ]
  },
  {
   "cell_type": "markdown",
   "metadata": {},
   "source": [
    "Verifiquemos que el secreto se monta en el pod"
   ]
  },
  {
   "cell_type": "code",
   "execution_count": null,
   "metadata": {
    "vscode": {
     "languageId": "shellscript"
    }
   },
   "outputs": [],
   "source": [
    "%%bash\n",
    "# Espera a que despliegue\n",
    "sleep 10 \n",
    "# Chequea secretos\n",
    "kubectl exec mypoddb -n test  -- ls /etc/foo/\n",
    "echo \"\"\n",
    "echo \"------\"\n",
    "kubectl exec mypoddb -n test -- cat /etc/foo/_raw"
   ]
  },
  {
   "cell_type": "markdown",
   "metadata": {},
   "source": [
    "Si esperamos dos minutos (por la configuración del role) veremos un nuevo secreto en el volumen del POD"
   ]
  },
  {
   "cell_type": "code",
   "execution_count": null,
   "metadata": {
    "vscode": {
     "languageId": "shellscript"
    }
   },
   "outputs": [],
   "source": [
    "%%bash\n",
    "sleep 120 \n",
    "kubectl exec mypoddb -n test -- cat /etc/foo/_raw"
   ]
  }
 ],
 "metadata": {
  "kernelspec": {
   "display_name": "base",
   "language": "python",
   "name": "python3"
  },
  "language_info": {
   "codemirror_mode": {
    "name": "ipython",
    "version": 3
   },
   "file_extension": ".py",
   "mimetype": "text/x-python",
   "name": "python",
   "nbconvert_exporter": "python",
   "pygments_lexer": "ipython3",
   "version": "3.9.21"
  },
  "orig_nbformat": 4
 },
 "nbformat": 4,
 "nbformat_minor": 2
}
