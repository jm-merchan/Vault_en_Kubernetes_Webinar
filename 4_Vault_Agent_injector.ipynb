{
 "cells": [
  {
   "cell_type": "code",
   "execution_count": null,
   "metadata": {
    "vscode": {
     "languageId": "shellscript"
    }
   },
   "outputs": [],
   "source": [
    "%env  WORKDIR=/tmp/vault\n",
    "%env ROLE_NAME=internal-app"
   ]
  },
  {
   "cell_type": "markdown",
   "metadata": {},
   "source": [
    "Importamos la dirección, localización del fichero de la CA de Vault así como el Vault token usando [python-dotenv](https://pypi.org/project/python-dotenv/). De esta forma evitamos filtrar el root token de Vault"
   ]
  },
  {
   "cell_type": "code",
   "execution_count": 2,
   "metadata": {},
   "outputs": [],
   "source": [
    "import os\n",
    "from dotenv import load_dotenv\n",
    "\n",
    "load_dotenv(\"/tmp/vault/config.env\")\n",
    "\n",
    "VAULT_TOKEN = os.getenv('VAULT_TOKEN')\n",
    "VAULT_ADDR = os.getenv('VAULT_ADDR')\n",
    "VAULT_CACERT = os.getenv('VAULT_CACERT')"
   ]
  },
  {
   "cell_type": "markdown",
   "metadata": {},
   "source": [
    "Creamos una service account que será usada por un POD en el namespace test"
   ]
  },
  {
   "cell_type": "code",
   "execution_count": null,
   "metadata": {
    "vscode": {
     "languageId": "shellscript"
    }
   },
   "outputs": [],
   "source": [
    "! kubectl create sa $ROLE_NAME -n test"
   ]
  },
  {
   "cell_type": "markdown",
   "metadata": {},
   "source": [
    "Extendemos el role creado previamente para permitir el acceso de la SA que se acaba de crear"
   ]
  },
  {
   "cell_type": "code",
   "execution_count": null,
   "metadata": {
    "vscode": {
     "languageId": "shellscript"
    }
   },
   "outputs": [],
   "source": [
    "%%bash\n",
    "\n",
    "vault write auth/kubernetes/role/role \\\n",
    "    bound_service_account_names=default,$ROLE_NAME \\\n",
    "    bound_service_account_namespaces=test \\\n",
    "    policies=devk8s \\\n",
    "    ttl=10m"
   ]
  },
  {
   "cell_type": "markdown",
   "metadata": {},
   "source": [
    "Desplegamos un POD con anotaciones que serán capturadas por el mutating webhook controller. El controller se encargará de modificar el spec del POD"
   ]
  },
  {
   "cell_type": "code",
   "execution_count": 20,
   "metadata": {
    "vscode": {
     "languageId": "shellscript"
    }
   },
   "outputs": [],
   "source": [
    "%%bash\n",
    "cat > $WORKDIR/orgchart.yaml <<EOF\n",
    "apiVersion: apps/v1\n",
    "kind: Deployment\n",
    "metadata:\n",
    "  name: orgchart\n",
    "  namespace: test\n",
    "  labels:\n",
    "    app: orgchart\n",
    "spec:\n",
    "  selector:\n",
    "    matchLabels:\n",
    "      app: orgchart\n",
    "  replicas: 1\n",
    "  template:\n",
    "    metadata:\n",
    "      annotations:\n",
    "        vault.hashicorp.com/agent-inject: 'true'\n",
    "        vault.hashicorp.com/role: 'role'\n",
    "        vault.hashicorp.com/agent-inject-secret-database-config.txt: 'database/creds/readonly'\n",
    "        vault.hashicorp.com/tls-skip-verify: 'true' # Untrusted cert used here\n",
    "        vault.hashicorp.com/agent-inject-template-database-config.txt: |\n",
    "          {{- with secret \"database/creds/readonly\" -}}\n",
    "          postgresql://{{ .Data.username }}:{{ .Data.password }}@postgres:5432/postgres\n",
    "          {{- end -}}\n",
    "      labels:\n",
    "        app: orgchart\n",
    "    spec:\n",
    "      serviceAccountName: $ROLE_NAME\n",
    "      containers:\n",
    "        - name: orgchart\n",
    "          image: nginx\n",
    "EOF"
   ]
  },
  {
   "cell_type": "code",
   "execution_count": null,
   "metadata": {
    "vscode": {
     "languageId": "shellscript"
    }
   },
   "outputs": [],
   "source": [
    "! kubectl apply --filename $WORKDIR/orgchart.yaml"
   ]
  },
  {
   "cell_type": "markdown",
   "metadata": {},
   "source": [
    "### Vault Agents Logs"
   ]
  },
  {
   "cell_type": "code",
   "execution_count": null,
   "metadata": {
    "vscode": {
     "languageId": "shellscript"
    }
   },
   "outputs": [],
   "source": [
    "%%bash \n",
    "kubectl logs -n test\\\n",
    "    $(kubectl get pod -n test -l app=orgchart -o jsonpath=\"{.items[0].metadata.name}\") \\\n",
    "    --container vault-agent"
   ]
  },
  {
   "cell_type": "markdown",
   "metadata": {},
   "source": [
    "### Leemos el secreto del POD"
   ]
  },
  {
   "cell_type": "code",
   "execution_count": null,
   "metadata": {
    "vscode": {
     "languageId": "shellscript"
    }
   },
   "outputs": [],
   "source": [
    "%%bash\n",
    "kubectl exec -n test\\\n",
    "    $(kubectl get pod -n test -l app=orgchart -o jsonpath=\"{.items[0].metadata.name}\") \\\n",
    "    --container orgchart -- cat /vault/secrets/database-config.txt"
   ]
  },
  {
   "cell_type": "markdown",
   "metadata": {},
   "source": [
    "Si esperamos dos minutos podemos ver como el secreto ha sido actualizado"
   ]
  },
  {
   "cell_type": "code",
   "execution_count": null,
   "metadata": {
    "vscode": {
     "languageId": "shellscript"
    }
   },
   "outputs": [],
   "source": [
    "%%bash\n",
    "sleep 120\n",
    "kubectl exec -n test\\\n",
    "    $(kubectl get pod -n test -l app=orgchart -o jsonpath=\"{.items[0].metadata.name}\") \\\n",
    "    --container orgchart -- cat /vault/secrets/database-config.txt"
   ]
  }
 ],
 "metadata": {
  "kernelspec": {
   "display_name": "base",
   "language": "python",
   "name": "python3"
  },
  "language_info": {
   "codemirror_mode": {
    "name": "ipython",
    "version": 3
   },
   "file_extension": ".py",
   "mimetype": "text/x-python",
   "name": "python",
   "nbconvert_exporter": "python",
   "pygments_lexer": "ipython3",
   "version": "3.9.21"
  },
  "orig_nbformat": 4
 },
 "nbformat": 4,
 "nbformat_minor": 2
}
